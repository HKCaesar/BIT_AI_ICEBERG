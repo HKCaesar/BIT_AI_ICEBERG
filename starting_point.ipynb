{
 "cells": [
  {
   "cell_type": "code",
   "execution_count": 12,
   "metadata": {},
   "outputs": [],
   "source": [
    "from keras.preprocessing.image import ImageDataGenerator\n",
    "from keras.preprocessing.image import *\n",
    "from keras.models import Sequential\n",
    "from keras.layers import Conv2D, MaxPooling2D\n",
    "from keras.layers import Activation, Dropout, Flatten, Dense, ZeroPadding2D\n",
    "from keras.layers import BatchNormalization\n",
    "from keras import initializers\n",
    "from keras import regularizers\n",
    "from keras.layers.advanced_activations import LeakyReLU\n",
    "from sklearn.model_selection import StratifiedKFold\n",
    "from keras.utils.np_utils import to_categorical\n",
    "import json\n",
    "import pandas as pd\n",
    "import numpy as np\n",
    "from keras import backend as K\n",
    "import matplotlib.pyplot as plt\n",
    "K.set_image_dim_ordering('tf')\n",
    "\n",
    "data = pd.read_json('train.json')\n",
    "\n",
    "data = data.drop('id', 1)\n",
    "data = data.drop('inc_angle', 1)\n",
    "\n"
   ]
  },
  {
   "cell_type": "code",
   "execution_count": 13,
   "metadata": {
    "collapsed": true
   },
   "outputs": [],
   "source": [
    "Y = data['is_iceberg']\n",
    "\n",
    "data = data.drop('is_iceberg', 1)\n"
   ]
  },
  {
   "cell_type": "code",
   "execution_count": 14,
   "metadata": {
    "collapsed": true
   },
   "outputs": [],
   "source": [
    "X1 = data['band_1']\n",
    "X2 = data['band_2']\n",
    "X1 = np.array(X1)\n",
    "X2 = np.array(X2)"
   ]
  },
  {
   "cell_type": "code",
   "execution_count": 15,
   "metadata": {
    "collapsed": true
   },
   "outputs": [],
   "source": [
    "X = []\n",
    "\n",
    "for i in range(len(X1)):\n",
    "    X.extend(X1[i])\n",
    "    #X.extend(X2[i])"
   ]
  },
  {
   "cell_type": "code",
   "execution_count": 16,
   "metadata": {},
   "outputs": [
    {
     "data": {
      "text/plain": [
       "(1604, 75, 75, 1)"
      ]
     },
     "execution_count": 16,
     "metadata": {},
     "output_type": "execute_result"
    }
   ],
   "source": [
    "X = np.array(X)\n",
    "X = np.reshape(X, (len(X1), 75, 75, 1))\n",
    "# X = np.transpose(X, (0, 2, 3, 1))\n",
    "\n",
    "X.shape"
   ]
  },
  {
   "cell_type": "code",
   "execution_count": 17,
   "metadata": {},
   "outputs": [
    {
     "data": {
      "text/plain": [
       "(1604, 2)"
      ]
     },
     "execution_count": 17,
     "metadata": {},
     "output_type": "execute_result"
    }
   ],
   "source": [
    "Y = to_categorical(Y)\n",
    "\n",
    "Y.shape"
   ]
  },
  {
   "cell_type": "code",
   "execution_count": 18,
   "metadata": {},
   "outputs": [
    {
     "name": "stdout",
     "output_type": "stream",
     "text": [
      "(1300, 75, 75, 1)\n",
      "(304, 75, 75, 1)\n",
      "(1300, 2)\n",
      "(304, 2)\n"
     ]
    }
   ],
   "source": [
    "image_height = 75\n",
    "image_width = 75\n",
    "\n",
    "train_samples = 1300\n",
    "validation_samples = 304\n",
    "\n",
    "epochs = 2\n",
    "batch_size = 32\n",
    "\n",
    "X_train = X[:train_samples, :, : ,:]\n",
    "X_train = abs(X_train/(np.max(X_train) - np.min(X_train)))\n",
    "X_test = X[train_samples:, :, :, :]\n",
    "X_test = abs(X_test/(np.max(X_test) - np.min(X_test)))\n",
    "Y_train = Y[:train_samples, :]\n",
    "Y_test = Y[train_samples:, :]\n",
    "\n",
    "print(X_train.shape)\n",
    "print(X_test.shape)\n",
    "print(Y_train.shape)\n",
    "print(Y_test.shape)"
   ]
  },
  {
   "cell_type": "code",
   "execution_count": 19,
   "metadata": {},
   "outputs": [
    {
     "data": {
      "text/plain": [
       "<matplotlib.image.AxesImage at 0x7f5d3b708160>"
      ]
     },
     "execution_count": 19,
     "metadata": {},
     "output_type": "execute_result"
    },
    {
     "data": {
      "image/png": "[encoded data removed]",
      "text/plain": [
       "<matplotlib.figure.Figure at 0x7f5d0da4bc88>"
      ]
     },
     "metadata": {},
     "output_type": "display_data"
    }
   ],
   "source": [
    "%matplotlib inline\n",
    "\n",
    "\n",
    "\n",
    "\n",
    "elo = (X_train[9])\n",
    "\n",
    "elo = np.reshape(elo, (75,75))\n",
    "plt.imshow(elo)"
   ]
  },
  {
   "cell_type": "code",
   "execution_count": 21,
   "metadata": {},
   "outputs": [],
   "source": [
    "model1 = Sequential()\n",
    "\n",
    "model1.add(Conv2D(32, (3, 3), activation='relu', input_shape=(image_width, image_height, 1)))\n",
    "model1.add(Conv2D(32, (3, 3), activation='relu'))\n",
    "model1.add(MaxPooling2D(pool_size=(2, 2)))\n",
    "\n",
    "model1.add(Conv2D(64, (3, 3), activation='relu'))\n",
    "model1.add(Conv2D(64, (3, 3), activation='relu'))\n",
    "model1.add(MaxPooling2D(pool_size=(2, 2)))\n",
    "\n",
    "model1.add(Flatten())\n",
    "model1.add(Dense(512, activation='relu', use_bias=True, bias_initializer='zeros'))\n",
    "model1.add(Dense(2, activation='softmax'))\n"
   ]
  },
  {
   "cell_type": "code",
   "execution_count": 22,
   "metadata": {
    "collapsed": true
   },
   "outputs": [],
   "source": [
    "model1.compile(optimizer='adam',\n",
    "              loss='categorical_crossentropy',\n",
    "              metrics=['accuracy'])\n"
   ]
  },
  {
   "cell_type": "code",
   "execution_count": 46,
   "metadata": {},
   "outputs": [
    {
     "name": "stdout",
     "output_type": "stream",
     "text": [
      "Epoch 1/15\n",
      "1300/1300 [==============================] - 24s - loss: 0.1442 - acc: 0.9431    \n",
      "Epoch 2/15\n",
      "1300/1300 [==============================] - 23s - loss: 0.1029 - acc: 0.9708    \n",
      "Epoch 3/15\n",
      "1300/1300 [==============================] - 24s - loss: 0.0601 - acc: 0.9792    \n",
      "Epoch 4/15\n",
      "1300/1300 [==============================] - 24s - loss: 0.0123 - acc: 0.9977    \n",
      "Epoch 5/15\n",
      "1300/1300 [==============================] - 23s - loss: 0.0014 - acc: 1.0000    \n",
      "Epoch 6/15\n",
      "1300/1300 [==============================] - 24s - loss: 2.1029e-04 - acc: 1.0000    \n",
      "Epoch 7/15\n",
      "1300/1300 [==============================] - 24s - loss: 1.2673e-04 - acc: 1.0000    \n",
      "Epoch 8/15\n",
      "1300/1300 [==============================] - 23s - loss: 9.5833e-05 - acc: 1.0000    \n",
      "Epoch 9/15\n",
      "1300/1300 [==============================] - 23s - loss: 7.5688e-05 - acc: 1.0000    \n",
      "Epoch 10/15\n",
      "1300/1300 [==============================] - 23s - loss: 6.0461e-05 - acc: 1.0000    \n",
      "Epoch 11/15\n",
      "1300/1300 [==============================] - 23s - loss: 4.9925e-05 - acc: 1.0000    \n",
      "Epoch 12/15\n",
      "1300/1300 [==============================] - 23s - loss: 4.2077e-05 - acc: 1.0000    \n",
      "Epoch 13/15\n",
      "1300/1300 [==============================] - 23s - loss: 3.5590e-05 - acc: 1.0000    \n",
      "Epoch 14/15\n",
      "1300/1300 [==============================] - 23s - loss: 3.0515e-05 - acc: 1.0000    \n",
      "Epoch 15/15\n",
      "1300/1300 [==============================] - 23s - loss: 2.6336e-05 - acc: 1.0000    \n"
     ]
    },
    {
     "data": {
      "text/plain": [
       "<keras.callbacks.History at 0x7f5d068a6400>"
      ]
     },
     "execution_count": 46,
     "metadata": {},
     "output_type": "execute_result"
    }
   ],
   "source": [
    "model1.fit(X_train, Y_train,\n",
    "              batch_size=8,\n",
    "              epochs=15,\n",
    "                shuffle=True)"
   ]
  },
  {
   "cell_type": "code",
   "execution_count": 47,
   "metadata": {},
   "outputs": [],
   "source": [
    "model1.save('100_acc.h5')"
   ]
  },
  {
   "cell_type": "code",
   "execution_count": 48,
   "metadata": {},
   "outputs": [],
   "source": [
    "Yhat = model1.predict(X_test)"
   ]
  },
  {
   "cell_type": "code",
   "execution_count": 49,
   "metadata": {
    "collapsed": true
   },
   "outputs": [],
   "source": [
    "for i in range(len(Yhat)):\n",
    "    Yhat[i, :] = np.round(Yhat[i, :])"
   ]
  },
  {
   "cell_type": "code",
   "execution_count": 50,
   "metadata": {},
   "outputs": [
    {
     "name": "stdout",
     "output_type": "stream",
     "text": [
      "0.753289473684\n"
     ]
    }
   ],
   "source": [
    "print(np.sum(np.all(Yhat == Y_test, axis=1))/len(Yhat))"
   ]
  },
  {
   "cell_type": "code",
   "execution_count": null,
   "metadata": {
    "collapsed": true
   },
   "outputs": [],
   "source": [
    "test = pd.read_json('test.json')"
   ]
  },
  {
   "cell_type": "code",
   "execution_count": null,
   "metadata": {
    "collapsed": true
   },
   "outputs": [],
   "source": [
    "submission = pd.DataFrame()\n",
    "submission['id']=test['id']\n",
    "submission['is_iceberg']=preds\n",
    "submission.to_csv('sub.csv', index=False)"
   ]
  }
 ],
 "metadata": {
  "kernelspec": {
   "display_name": "Python 3.6",
   "language": "python",
   "name": "python36"
  },
  "language_info": {
   "codemirror_mode": {
    "name": "ipython",
    "version": 3
   },
   "file_extension": ".py",
   "mimetype": "text/x-python",
   "name": "python",
   "nbconvert_exporter": "python",
   "pygments_lexer": "ipython3",
   "version": "3.6.0"
  }
 },
 "nbformat": 4,
 "nbformat_minor": 2
}
