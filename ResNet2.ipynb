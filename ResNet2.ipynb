{
 "cells": [
  {
   "cell_type": "code",
   "execution_count": 1,
   "metadata": {},
   "outputs": [
    {
     "name": "stderr",
     "output_type": "stream",
     "text": [
      "Using TensorFlow backend.\n"
     ]
    }
   ],
   "source": [
    "import pandas as pd\n",
    "import numpy as np\n",
    "from keras.models import Model, Sequential\n",
    "from keras.layers import Dense, Dropout, Activation, Flatten, Input\n",
    "from keras.layers import Conv2D, MaxPooling2D, BatchNormalization\n",
    "from keras.layers import ZeroPadding2D, BatchNormalization, AveragePooling2D\n",
    "from keras.callbacks import EarlyStopping, ModelCheckpoint, ReduceLROnPlateau\n",
    "from keras.layers.normalization import BatchNormalization\n",
    "from keras.optimizers import Adam\n",
    "from sklearn.model_selection import train_test_split\n",
    "import matplotlib.pyplot as plt\n",
    "import keras\n",
    "from keras.preprocessing.image import ImageDataGenerator\n",
    "%matplotlib inline"
   ]
  },
  {
   "cell_type": "markdown",
   "metadata": {},
   "source": [
    "### Preprocessing"
   ]
  },
  {
   "cell_type": "code",
   "execution_count": 2,
   "metadata": {
    "collapsed": true
   },
   "outputs": [],
   "source": [
    "def get_data(data_frame):\n",
    "    imgs = []\n",
    "    \n",
    "    for i, row in data_frame.iterrows():\n",
    "        band_1 = np.array(row['band_1']).reshape(75, 75)\n",
    "        band_2 = np.array(row['band_2']).reshape(75, 75)\n",
    "        band_3 = (band_1 + band_2)/2\n",
    "        \n",
    "        imgs.append(np.dstack((band_1, band_2, band_3)))\n",
    "        \n",
    "    return np.array(imgs)"
   ]
  },
  {
   "cell_type": "code",
   "execution_count": 3,
   "metadata": {
    "collapsed": true
   },
   "outputs": [],
   "source": [
    "def get_norm_params(data):\n",
    "    \n",
    "    return [\n",
    "           (data[:,:,:,0].min(), data[:,:,:,0].max(), data[:,:,:,0].mean()), \n",
    "           (data[:,:,:,1].min(), data[:,:,:,1].max(), data[:,:,:,1].mean()),\n",
    "           (((data[:,:,:,0] + data[:,:,:,1])/2).min(), \n",
    "           ((data[:,:,:,0] + data[:,:,:,1])/2).max(), \n",
    "           ((data[:,:,:,0] + data[:,:,:,1])/2).mean())\n",
    "           ]"
   ]
  },
  {
   "cell_type": "code",
   "execution_count": 4,
   "metadata": {
    "collapsed": true
   },
   "outputs": [],
   "source": [
    "def normalize(data, params):\n",
    "    \n",
    "    # p = (min, max, mean)\n",
    "    p1 = params[0]\n",
    "    p2 = params[1]\n",
    "    p3 = params[2]\n",
    "    \n",
    "    data[:, :, :, 0] = (data[:, :, :, 0] - p1[2]) / (p1[1] - p1[0])\n",
    "    data[:, :, :, 1] = (data[:, :, :, 1] - p2[2]) / (p2[1] - p2[0])\n",
    "    data[:, :, :, 2] = (data[:, :, :, 2] - p3[2]) / (p3[1] - p3[0])\n",
    "\n",
    "    return data"
   ]
  },
  {
   "cell_type": "markdown",
   "metadata": {},
   "source": [
    "### Plot"
   ]
  },
  {
   "cell_type": "code",
   "execution_count": 5,
   "metadata": {
    "collapsed": true
   },
   "outputs": [],
   "source": [
    "def show_all_bands(data, current):\n",
    "    f, (ax1, ax2, ax3) = plt.subplots(1, 3)\n",
    "\n",
    "    ax1.imshow(data[current, :, :, 0])\n",
    "    ax1.set_title(\"Band 1\")\n",
    "\n",
    "    ax2.imshow(data[current, :, :, 1])\n",
    "    ax2.set_title(\"Band 2\")\n",
    "    \n",
    "    ax3.imshow(data[current, :, :, 2])\n",
    "    ax3.set_title(\"Band 3\")\n",
    "\n",
    "    plt.show()"
   ]
  },
  {
   "cell_type": "markdown",
   "metadata": {},
   "source": [
    "### Model"
   ]
  },
  {
   "cell_type": "code",
   "execution_count": 22,
   "metadata": {
    "collapsed": true
   },
   "outputs": [],
   "source": [
    "def get_model():    \n",
    "    inputs = Input(shape=(75, 75, 3))\n",
    "\n",
    "    # prep\n",
    "    x = ZeroPadding2D((3, 3))(inputs)\n",
    "    x = Conv2D(64, (7, 7), strides=(2, 2), name='conv1')(x)\n",
    "    x = BatchNormalization(axis=3, name='bn_conv1')(x)\n",
    "    x = Activation('relu')(x)\n",
    "    x = MaxPooling2D((3, 3), strides=(2, 2))(x)\n",
    "\n",
    "    # conv block 1, shortcut with conv layer\n",
    "    input_tensor = x\n",
    "\n",
    "    x = Conv2D(64, (1, 1), strides=(1, 1),\n",
    "               name='conv_1a')(input_tensor)\n",
    "    x = BatchNormalization(axis=3, name='batch_1a')(x)\n",
    "    x = Activation('relu')(x)\n",
    "\n",
    "    x = Conv2D(64, 3, padding='same',\n",
    "               name='conv_1b')(x)\n",
    "    x = BatchNormalization(axis=3, name='batch_1b')(x)\n",
    "    x = Activation('relu')(x)\n",
    "\n",
    "    x = Conv2D(256, (1, 1), name='conv_1c')(x)\n",
    "    x = BatchNormalization(axis=3, name='batch_1c')(x)\n",
    "\n",
    "    shortcut = Conv2D(256, (1, 1), strides=(1,1),\n",
    "                      name='shortcut1')(input_tensor)\n",
    "    shortcut = BatchNormalization(axis=3, name='batch1')(shortcut)\n",
    "\n",
    "    x = keras.layers.add([x, shortcut])\n",
    "    x = Activation('relu')(x)\n",
    "\n",
    "    # identity block 1, shortcut without conv layer\n",
    "    input_tensor = x\n",
    "\n",
    "    x = Conv2D(64, (1, 1), name='conv_2a')(input_tensor)\n",
    "    x = BatchNormalization(axis=3, name='batch_2a')(x)\n",
    "    x = Activation('relu')(x)\n",
    "\n",
    "    x = Conv2D(64, 3,\n",
    "               padding='same', name='conv_2b')(x)\n",
    "    x = BatchNormalization(axis=3, name='batch_2b')(x)\n",
    "    x = Activation('relu')(x)\n",
    "\n",
    "    x = Conv2D(256, (1, 1), name='conv_2c')(x)\n",
    "    x = BatchNormalization(axis=3, name='batch_2c')(x)\n",
    "\n",
    "    x = keras.layers.add([x, input_tensor])\n",
    "    x = Activation('relu')(x)\n",
    "\n",
    "    # identity block 2, shortcut without conv layer\n",
    "    input_tensor = x\n",
    "\n",
    "    x = Conv2D(64, (1, 1), name='conv_3a')(input_tensor)\n",
    "    x = BatchNormalization(axis=3, name='batch_3a')(x)\n",
    "    x = Activation('relu')(x)\n",
    "\n",
    "    x = Conv2D(64, 3,\n",
    "               padding='same', name='conv_3b')(x)\n",
    "    x = BatchNormalization(axis=3, name='batch_3b')(x)\n",
    "    x = Activation('relu')(x)\n",
    "\n",
    "    x = Conv2D(256, (1, 1), name='conv_3c')(x)\n",
    "    x = BatchNormalization(axis=3, name='batch_3c')(x)\n",
    "\n",
    "    x = keras.layers.add([x, input_tensor])\n",
    "    x = Activation('relu')(x)\n",
    "\n",
    "    # there could be many more blocks\n",
    "\n",
    "    # final stage\n",
    "    x = AveragePooling2D((6, 6), strides=(6, 6), name='avg_pool')(x)\n",
    "    x = Flatten()(x)\n",
    "\n",
    "    predictions = Dense(1, activation='sigmoid')(x)\n",
    "\n",
    "    # this creates a model that includes\n",
    "    # the Input layer and three Dense layers\n",
    "    model = Model(input=inputs, output=predictions)\n",
    "    model.compile(optimizer='adam',\n",
    "                  loss='binary_crossentropy',\n",
    "                  metrics=['accuracy'])\n",
    "    return model"
   ]
  },
  {
   "cell_type": "markdown",
   "metadata": {},
   "source": [
    "### Load the data"
   ]
  },
  {
   "cell_type": "code",
   "execution_count": 23,
   "metadata": {
    "collapsed": true
   },
   "outputs": [],
   "source": [
    "df_train = pd.read_json('train.json')  # load pd dataframe"
   ]
  },
  {
   "cell_type": "code",
   "execution_count": 24,
   "metadata": {
    "collapsed": true
   },
   "outputs": [],
   "source": [
    "Y = np.array(df_train['is_iceberg'])  # extract labels"
   ]
  },
  {
   "cell_type": "code",
   "execution_count": 25,
   "metadata": {
    "collapsed": true
   },
   "outputs": [],
   "source": [
    "X = get_data(df_train)  # convert to [1603, 75, 75, 3]"
   ]
  },
  {
   "cell_type": "code",
   "execution_count": 26,
   "metadata": {
    "collapsed": true
   },
   "outputs": [],
   "source": [
    "del df_train"
   ]
  },
  {
   "cell_type": "code",
   "execution_count": 27,
   "metadata": {
    "collapsed": true
   },
   "outputs": [],
   "source": [
    "X_train, X_test, Y_train, Y_test = train_test_split(X, Y, test_size=0.25)"
   ]
  },
  {
   "cell_type": "code",
   "execution_count": 28,
   "metadata": {
    "collapsed": true
   },
   "outputs": [],
   "source": [
    "del X, Y"
   ]
  },
  {
   "cell_type": "code",
   "execution_count": 29,
   "metadata": {
    "collapsed": true
   },
   "outputs": [],
   "source": [
    "params = get_norm_params(X_train)"
   ]
  },
  {
   "cell_type": "code",
   "execution_count": 30,
   "metadata": {
    "collapsed": true
   },
   "outputs": [],
   "source": [
    "X_train = normalize(X_train, params=params)\n",
    "X_test = normalize(X_test, params=params)"
   ]
  },
  {
   "cell_type": "code",
   "execution_count": 31,
   "metadata": {},
   "outputs": [
    {
     "name": "stdout",
     "output_type": "stream",
     "text": [
      "(1203, 75, 75, 3)\n",
      "(1203,)\n",
      "(401, 75, 75, 3)\n",
      "(401,)\n"
     ]
    }
   ],
   "source": [
    "print(X_train.shape)\n",
    "print(Y_train.shape)\n",
    "print(X_test.shape)\n",
    "print(Y_test.shape)"
   ]
  },
  {
   "cell_type": "code",
   "execution_count": 32,
   "metadata": {},
   "outputs": [
    {
     "name": "stdout",
     "output_type": "stream",
     "text": [
      "-0.00405939303139\n"
     ]
    }
   ],
   "source": [
    "print(X_test[:, :, :, 0].mean())"
   ]
  },
  {
   "cell_type": "markdown",
   "metadata": {},
   "source": [
    "### Set parameters"
   ]
  },
  {
   "cell_type": "code",
   "execution_count": 33,
   "metadata": {
    "collapsed": true
   },
   "outputs": [],
   "source": [
    "batch_size = 32\n",
    "epochs = 40"
   ]
  },
  {
   "cell_type": "markdown",
   "metadata": {},
   "source": [
    "### Pray to Hinton"
   ]
  },
  {
   "cell_type": "code",
   "execution_count": 34,
   "metadata": {
    "collapsed": true
   },
   "outputs": [],
   "source": [
    "datagen = ImageDataGenerator(horizontal_flip = True,\n",
    "                         vertical_flip = True,\n",
    "                         width_shift_range = 0, # tego nie testowalem\n",
    "                         height_shift_range = 0, # tego nie testowale\n",
    "                         channel_shift_range=0, # slabe efekty daje, moze trzeba lepiej dobrac wartosc\n",
    "                         zoom_range = 0.1,\n",
    "                         rotation_range = 10)"
   ]
  },
  {
   "cell_type": "code",
   "execution_count": 35,
   "metadata": {},
   "outputs": [
    {
     "name": "stderr",
     "output_type": "stream",
     "text": [
      "/home/gabriel/anaconda3/lib/python3.6/site-packages/ipykernel_launcher.py:80: UserWarning: Update your `Model` call to the Keras 2 API: `Model(inputs=Tensor(\"in..., outputs=Tensor(\"de...)`\n"
     ]
    }
   ],
   "source": [
    "model = get_model()"
   ]
  },
  {
   "cell_type": "code",
   "execution_count": 36,
   "metadata": {
    "scrolled": true
   },
   "outputs": [
    {
     "name": "stdout",
     "output_type": "stream",
     "text": [
      "__________________________________________________________________________________________________\n",
      "Layer (type)                    Output Shape         Param #     Connected to                     \n",
      "==================================================================================================\n",
      "input_2 (InputLayer)            (None, 75, 75, 3)    0                                            \n",
      "__________________________________________________________________________________________________\n",
      "zero_padding2d_2 (ZeroPadding2D (None, 81, 81, 3)    0           input_2[0][0]                    \n",
      "__________________________________________________________________________________________________\n",
      "conv1 (Conv2D)                  (None, 38, 38, 64)   9472        zero_padding2d_2[0][0]           \n",
      "__________________________________________________________________________________________________\n",
      "bn_conv1 (BatchNormalization)   (None, 38, 38, 64)   256         conv1[0][0]                      \n",
      "__________________________________________________________________________________________________\n",
      "activation_11 (Activation)      (None, 38, 38, 64)   0           bn_conv1[0][0]                   \n",
      "__________________________________________________________________________________________________\n",
      "max_pooling2d_2 (MaxPooling2D)  (None, 18, 18, 64)   0           activation_11[0][0]              \n",
      "__________________________________________________________________________________________________\n",
      "conv_1a (Conv2D)                (None, 18, 18, 64)   4160        max_pooling2d_2[0][0]            \n",
      "__________________________________________________________________________________________________\n",
      "batch_1a (BatchNormalization)   (None, 18, 18, 64)   256         conv_1a[0][0]                    \n",
      "__________________________________________________________________________________________________\n",
      "activation_12 (Activation)      (None, 18, 18, 64)   0           batch_1a[0][0]                   \n",
      "__________________________________________________________________________________________________\n",
      "conv_1b (Conv2D)                (None, 18, 18, 64)   36928       activation_12[0][0]              \n",
      "__________________________________________________________________________________________________\n",
      "batch_1b (BatchNormalization)   (None, 18, 18, 64)   256         conv_1b[0][0]                    \n",
      "__________________________________________________________________________________________________\n",
      "activation_13 (Activation)      (None, 18, 18, 64)   0           batch_1b[0][0]                   \n",
      "__________________________________________________________________________________________________\n",
      "conv_1c (Conv2D)                (None, 18, 18, 256)  16640       activation_13[0][0]              \n",
      "__________________________________________________________________________________________________\n",
      "shortcut1 (Conv2D)              (None, 18, 18, 256)  16640       max_pooling2d_2[0][0]            \n",
      "__________________________________________________________________________________________________\n",
      "batch_1c (BatchNormalization)   (None, 18, 18, 256)  1024        conv_1c[0][0]                    \n",
      "__________________________________________________________________________________________________\n",
      "batch1 (BatchNormalization)     (None, 18, 18, 256)  1024        shortcut1[0][0]                  \n",
      "__________________________________________________________________________________________________\n",
      "add_4 (Add)                     (None, 18, 18, 256)  0           batch_1c[0][0]                   \n",
      "                                                                 batch1[0][0]                     \n",
      "__________________________________________________________________________________________________\n",
      "activation_14 (Activation)      (None, 18, 18, 256)  0           add_4[0][0]                      \n",
      "__________________________________________________________________________________________________\n",
      "conv_2a (Conv2D)                (None, 18, 18, 64)   16448       activation_14[0][0]              \n",
      "__________________________________________________________________________________________________\n",
      "batch_2a (BatchNormalization)   (None, 18, 18, 64)   256         conv_2a[0][0]                    \n",
      "__________________________________________________________________________________________________\n",
      "activation_15 (Activation)      (None, 18, 18, 64)   0           batch_2a[0][0]                   \n",
      "__________________________________________________________________________________________________\n",
      "conv_2b (Conv2D)                (None, 18, 18, 64)   36928       activation_15[0][0]              \n",
      "__________________________________________________________________________________________________\n",
      "batch_2b (BatchNormalization)   (None, 18, 18, 64)   256         conv_2b[0][0]                    \n",
      "__________________________________________________________________________________________________\n",
      "activation_16 (Activation)      (None, 18, 18, 64)   0           batch_2b[0][0]                   \n",
      "__________________________________________________________________________________________________\n",
      "conv_2c (Conv2D)                (None, 18, 18, 256)  16640       activation_16[0][0]              \n",
      "__________________________________________________________________________________________________\n",
      "batch_2c (BatchNormalization)   (None, 18, 18, 256)  1024        conv_2c[0][0]                    \n",
      "__________________________________________________________________________________________________\n",
      "add_5 (Add)                     (None, 18, 18, 256)  0           batch_2c[0][0]                   \n",
      "                                                                 activation_14[0][0]              \n",
      "__________________________________________________________________________________________________\n",
      "activation_17 (Activation)      (None, 18, 18, 256)  0           add_5[0][0]                      \n",
      "__________________________________________________________________________________________________\n",
      "conv_3a (Conv2D)                (None, 18, 18, 64)   16448       activation_17[0][0]              \n",
      "__________________________________________________________________________________________________\n",
      "batch_3a (BatchNormalization)   (None, 18, 18, 64)   256         conv_3a[0][0]                    \n",
      "__________________________________________________________________________________________________\n",
      "activation_18 (Activation)      (None, 18, 18, 64)   0           batch_3a[0][0]                   \n",
      "__________________________________________________________________________________________________\n",
      "conv_3b (Conv2D)                (None, 18, 18, 64)   36928       activation_18[0][0]              \n",
      "__________________________________________________________________________________________________\n",
      "batch_3b (BatchNormalization)   (None, 18, 18, 64)   256         conv_3b[0][0]                    \n",
      "__________________________________________________________________________________________________\n",
      "activation_19 (Activation)      (None, 18, 18, 64)   0           batch_3b[0][0]                   \n",
      "__________________________________________________________________________________________________\n",
      "conv_3c (Conv2D)                (None, 18, 18, 256)  16640       activation_19[0][0]              \n",
      "__________________________________________________________________________________________________\n",
      "batch_3c (BatchNormalization)   (None, 18, 18, 256)  1024        conv_3c[0][0]                    \n",
      "__________________________________________________________________________________________________\n",
      "add_6 (Add)                     (None, 18, 18, 256)  0           batch_3c[0][0]                   \n",
      "                                                                 activation_17[0][0]              \n",
      "__________________________________________________________________________________________________\n",
      "activation_20 (Activation)      (None, 18, 18, 256)  0           add_6[0][0]                      \n",
      "__________________________________________________________________________________________________\n",
      "avg_pool (AveragePooling2D)     (None, 3, 3, 256)    0           activation_20[0][0]              \n",
      "__________________________________________________________________________________________________\n",
      "flatten_2 (Flatten)             (None, 2304)         0           avg_pool[0][0]                   \n",
      "__________________________________________________________________________________________________\n",
      "dense_2 (Dense)                 (None, 1)            2305        flatten_2[0][0]                  \n",
      "==================================================================================================\n",
      "Total params: 232,065\n",
      "Trainable params: 229,121\n",
      "Non-trainable params: 2,944\n",
      "__________________________________________________________________________________________________\n"
     ]
    }
   ],
   "source": [
    "model.summary()"
   ]
  },
  {
   "cell_type": "code",
   "execution_count": 37,
   "metadata": {
    "collapsed": true
   },
   "outputs": [],
   "source": [
    "reduce_lr_loss = ReduceLROnPlateau(monitor='val_loss', factor=0.2, patience=5, \n",
    "                                   verbose=1, epsilon=1e-4, mode='min')"
   ]
  },
  {
   "cell_type": "code",
   "execution_count": 38,
   "metadata": {
    "scrolled": true
   },
   "outputs": [
    {
     "name": "stdout",
     "output_type": "stream",
     "text": [
      "Epoch 1/40\n",
      "38/37 [==============================] - 10s 256ms/step - loss: 0.5869 - acc: 0.7236 - val_loss: 0.7152 - val_acc: 0.4589\n",
      "Epoch 2/40\n",
      "38/37 [==============================] - 7s 184ms/step - loss: 0.3943 - acc: 0.8130 - val_loss: 0.7012 - val_acc: 0.4339\n",
      "Epoch 3/40\n",
      "38/37 [==============================] - 7s 180ms/step - loss: 0.3785 - acc: 0.8347 - val_loss: 0.7928 - val_acc: 0.4589\n",
      "Epoch 4/40\n",
      "38/37 [==============================] - 7s 180ms/step - loss: 0.3414 - acc: 0.8459 - val_loss: 0.7063 - val_acc: 0.4988\n",
      "Epoch 5/40\n",
      "38/37 [==============================] - 7s 179ms/step - loss: 0.2905 - acc: 0.8725 - val_loss: 0.7418 - val_acc: 0.4788\n",
      "Epoch 6/40\n",
      "38/37 [==============================] - 7s 183ms/step - loss: 0.2843 - acc: 0.8665 - val_loss: 0.8221 - val_acc: 0.4040\n",
      "Epoch 7/40\n",
      "38/37 [==============================] - 7s 184ms/step - loss: 0.2839 - acc: 0.8673 - val_loss: 0.9383 - val_acc: 0.4663\n",
      "Epoch 8/40\n",
      "37/37 [============================>.] - ETA: 0s - loss: 0.2604 - acc: 0.8851\n",
      "Epoch 00008: reducing learning rate to 0.00020000000949949026.\n",
      "38/37 [==============================] - 7s 189ms/step - loss: 0.2626 - acc: 0.8832 - val_loss: 1.2804 - val_acc: 0.4763\n",
      "Epoch 9/40\n",
      "38/37 [==============================] - 7s 181ms/step - loss: 0.2391 - acc: 0.9081 - val_loss: 1.4117 - val_acc: 0.4963\n",
      "Epoch 10/40\n",
      "38/37 [==============================] - 7s 180ms/step - loss: 0.2113 - acc: 0.9180 - val_loss: 1.6710 - val_acc: 0.4988\n",
      "Epoch 11/40\n",
      "38/37 [==============================] - 7s 189ms/step - loss: 0.2073 - acc: 0.9142 - val_loss: 1.8732 - val_acc: 0.5037\n",
      "Epoch 12/40\n",
      "38/37 [==============================] - 7s 182ms/step - loss: 0.2233 - acc: 0.9142 - val_loss: 1.8563 - val_acc: 0.5112\n",
      "Epoch 13/40\n",
      "37/37 [============================>.] - ETA: 0s - loss: 0.2123 - acc: 0.9130\n",
      "Epoch 00013: reducing learning rate to 4.0000001899898055e-05.\n",
      "38/37 [==============================] - 7s 191ms/step - loss: 0.2102 - acc: 0.9144 - val_loss: 2.1943 - val_acc: 0.4913\n",
      "Epoch 14/40\n",
      "38/37 [==============================] - 7s 181ms/step - loss: 0.1960 - acc: 0.9276 - val_loss: 1.7657 - val_acc: 0.5162\n",
      "Epoch 15/40\n",
      "38/37 [==============================] - 7s 180ms/step - loss: 0.2019 - acc: 0.9243 - val_loss: 1.3347 - val_acc: 0.5611\n",
      "Epoch 16/40\n",
      "38/37 [==============================] - 7s 186ms/step - loss: 0.1976 - acc: 0.9273 - val_loss: 1.0204 - val_acc: 0.5985\n",
      "Epoch 17/40\n",
      "38/37 [==============================] - 7s 181ms/step - loss: 0.1859 - acc: 0.9356 - val_loss: 0.6096 - val_acc: 0.6983\n",
      "Epoch 18/40\n",
      "38/37 [==============================] - 7s 191ms/step - loss: 0.1892 - acc: 0.9213 - val_loss: 0.3955 - val_acc: 0.8105\n",
      "Epoch 19/40\n",
      "38/37 [==============================] - 7s 195ms/step - loss: 0.1845 - acc: 0.9320 - val_loss: 0.3108 - val_acc: 0.8653\n",
      "Epoch 20/40\n",
      "38/37 [==============================] - 7s 192ms/step - loss: 0.1921 - acc: 0.9293 - val_loss: 0.2503 - val_acc: 0.8853\n",
      "Epoch 21/40\n",
      "38/37 [==============================] - 7s 182ms/step - loss: 0.1846 - acc: 0.9304 - val_loss: 0.2476 - val_acc: 0.8903\n",
      "Epoch 22/40\n",
      "38/37 [==============================] - 7s 181ms/step - loss: 0.2063 - acc: 0.9186 - val_loss: 0.2313 - val_acc: 0.9002\n",
      "Epoch 23/40\n",
      "38/37 [==============================] - 7s 181ms/step - loss: 0.1919 - acc: 0.9265 - val_loss: 0.2271 - val_acc: 0.9127\n",
      "Epoch 24/40\n",
      "38/37 [==============================] - 7s 187ms/step - loss: 0.1841 - acc: 0.9276 - val_loss: 0.2222 - val_acc: 0.9177\n",
      "Epoch 25/40\n",
      "38/37 [==============================] - 7s 188ms/step - loss: 0.1870 - acc: 0.9246 - val_loss: 0.2229 - val_acc: 0.9152\n",
      "Epoch 26/40\n",
      "38/37 [==============================] - 7s 194ms/step - loss: 0.1800 - acc: 0.9265 - val_loss: 0.2249 - val_acc: 0.9177\n",
      "Epoch 27/40\n",
      "38/37 [==============================] - 7s 182ms/step - loss: 0.1707 - acc: 0.9312 - val_loss: 0.2234 - val_acc: 0.9177\n",
      "Epoch 28/40\n",
      "38/37 [==============================] - 7s 189ms/step - loss: 0.1712 - acc: 0.9317 - val_loss: 0.2237 - val_acc: 0.9177\n",
      "Epoch 29/40\n",
      "38/37 [==============================] - 7s 190ms/step - loss: 0.1931 - acc: 0.9268 - val_loss: 0.2220 - val_acc: 0.9252\n",
      "Epoch 30/40\n",
      "38/37 [==============================] - 7s 187ms/step - loss: 0.1816 - acc: 0.9246 - val_loss: 0.2226 - val_acc: 0.9202\n",
      "Epoch 31/40\n",
      "38/37 [==============================] - 7s 181ms/step - loss: 0.1671 - acc: 0.9369 - val_loss: 0.2273 - val_acc: 0.9202\n",
      "Epoch 32/40\n",
      "38/37 [==============================] - 7s 181ms/step - loss: 0.1762 - acc: 0.9402 - val_loss: 0.2246 - val_acc: 0.9227\n",
      "Epoch 33/40\n",
      "38/37 [==============================] - 7s 188ms/step - loss: 0.1816 - acc: 0.9312 - val_loss: 0.2242 - val_acc: 0.9127\n",
      "Epoch 34/40\n",
      "38/37 [==============================] - 7s 181ms/step - loss: 0.1882 - acc: 0.9221 - val_loss: 0.2229 - val_acc: 0.9227\n",
      "Epoch 35/40\n",
      "37/37 [============================>.] - ETA: 0s - loss: 0.1613 - acc: 0.9468\n",
      "Epoch 00035: reducing learning rate to 8.000000525498762e-06.\n",
      "38/37 [==============================] - 7s 181ms/step - loss: 0.1619 - acc: 0.9468 - val_loss: 0.2223 - val_acc: 0.9202\n",
      "Epoch 36/40\n",
      "38/37 [==============================] - 7s 180ms/step - loss: 0.1720 - acc: 0.9361 - val_loss: 0.2225 - val_acc: 0.9227\n",
      "Epoch 37/40\n",
      "38/37 [==============================] - 7s 181ms/step - loss: 0.1651 - acc: 0.9298 - val_loss: 0.2229 - val_acc: 0.9252\n",
      "Epoch 38/40\n",
      "38/37 [==============================] - 7s 189ms/step - loss: 0.1800 - acc: 0.9249 - val_loss: 0.2228 - val_acc: 0.9227\n",
      "Epoch 39/40\n",
      "38/37 [==============================] - 7s 183ms/step - loss: 0.1756 - acc: 0.9364 - val_loss: 0.2231 - val_acc: 0.9277\n",
      "Epoch 40/40\n",
      "37/37 [============================>.] - ETA: 0s - loss: 0.1696 - acc: 0.9327\n",
      "Epoch 00040: reducing learning rate to 1.6000001778593287e-06.\n",
      "38/37 [==============================] - 7s 189ms/step - loss: 0.1688 - acc: 0.9336 - val_loss: 0.2249 - val_acc: 0.9277\n"
     ]
    }
   ],
   "source": [
    "history = model.fit_generator(datagen.flow(X_train, Y_train, batch_size=batch_size),\n",
    "                            steps_per_epoch=len(X_train)/batch_size, epochs=epochs, callbacks=[reduce_lr_loss],\n",
    "                            validation_data=(X_test,Y_test))"
   ]
  },
  {
   "cell_type": "markdown",
   "metadata": {},
   "source": [
    "Na kagglu jakieś 0.18 wyszło. Trzeba rozsądniej dobrać parametry, trochę pozmieniałem, ale część jest zostawiona w takiej formiej, w jakiej to posklejałem z różnych źródeł."
   ]
  },
  {
   "cell_type": "markdown",
   "metadata": {
    "collapsed": true
   },
   "source": [
    "### Plot learning process"
   ]
  },
  {
   "cell_type": "code",
   "execution_count": 39,
   "metadata": {},
   "outputs": [
    {
     "data": {
      "image/png": "[encoded data removed]",
      "text/plain": [
       "<matplotlib.figure.Figure at 0x7f48a4ed2940>"
      ]
     },
     "metadata": {},
     "output_type": "display_data"
    }
   ],
   "source": [
    "plt.plot(history.history['loss'])\n",
    "plt.plot(history.history['val_loss'])\n",
    "plt.title('model loss')\n",
    "plt.ylabel('accuracy')\n",
    "plt.xlabel('epoch')\n",
    "plt.legend(['train', 'test'], loc='upper right')\n",
    "plt.show()"
   ]
  },
  {
   "cell_type": "code",
   "execution_count": 40,
   "metadata": {},
   "outputs": [
    {
     "data": {
      "image/png": "[encoded data removed]",
      "text/plain": [
       "<matplotlib.figure.Figure at 0x7f48a40e4748>"
      ]
     },
     "metadata": {},
     "output_type": "display_data"
    }
   ],
   "source": [
    "plt.plot(history.history['acc'])\n",
    "plt.plot(history.history['val_acc'])\n",
    "plt.title('model accuracy')\n",
    "plt.ylabel('accuracy')\n",
    "plt.xlabel('epoch')\n",
    "plt.legend(['train', 'test'], loc='lower right')\n",
    "plt.show()"
   ]
  },
  {
   "cell_type": "markdown",
   "metadata": {},
   "source": [
    "### Test"
   ]
  },
  {
   "cell_type": "code",
   "execution_count": 41,
   "metadata": {
    "collapsed": true
   },
   "outputs": [],
   "source": [
    "del X_test, Y_test, X_train, Y_train"
   ]
  },
  {
   "cell_type": "code",
   "execution_count": 42,
   "metadata": {
    "collapsed": true
   },
   "outputs": [],
   "source": [
    "df_test = pd.read_json('test.json')"
   ]
  },
  {
   "cell_type": "code",
   "execution_count": 43,
   "metadata": {
    "collapsed": true
   },
   "outputs": [],
   "source": [
    "ID = df_test['id']\n",
    "X = get_data(df_test)"
   ]
  },
  {
   "cell_type": "code",
   "execution_count": 44,
   "metadata": {
    "collapsed": true
   },
   "outputs": [],
   "source": [
    "del df_test"
   ]
  },
  {
   "cell_type": "code",
   "execution_count": 45,
   "metadata": {
    "collapsed": true
   },
   "outputs": [],
   "source": [
    "X = normalize(X, params)"
   ]
  },
  {
   "cell_type": "code",
   "execution_count": 46,
   "metadata": {},
   "outputs": [
    {
     "name": "stdout",
     "output_type": "stream",
     "text": [
      "0.0253777990384\n"
     ]
    }
   ],
   "source": [
    "print(X[:,:,:,1].mean())"
   ]
  },
  {
   "cell_type": "code",
   "execution_count": 47,
   "metadata": {
    "collapsed": true
   },
   "outputs": [],
   "source": [
    "pred = model.predict(X)"
   ]
  },
  {
   "cell_type": "code",
   "execution_count": 48,
   "metadata": {},
   "outputs": [
    {
     "name": "stdout",
     "output_type": "stream",
     "text": [
      "[[ 0.02356728]\n",
      " [ 0.95852178]\n",
      " [ 0.00916142]\n",
      " ..., \n",
      " [ 0.01026784]\n",
      " [ 0.99946076]\n",
      " [ 0.99976844]]\n"
     ]
    }
   ],
   "source": [
    "print(pred)"
   ]
  },
  {
   "cell_type": "code",
   "execution_count": 49,
   "metadata": {
    "collapsed": true
   },
   "outputs": [],
   "source": [
    "submission = pd.DataFrame()\n",
    "submission['id'] = ID\n",
    "submission['is_iceberg'] = pred\n",
    "submission.to_csv('4_Dec.csv', index=False)"
   ]
  }
 ],
 "metadata": {
  "kernelspec": {
   "display_name": "Python 3",
   "language": "python",
   "name": "python3"
  },
  "language_info": {
   "codemirror_mode": {
    "name": "ipython",
    "version": 3
   },
   "file_extension": ".py",
   "mimetype": "text/x-python",
   "name": "python",
   "nbconvert_exporter": "python",
   "pygments_lexer": "ipython3",
   "version": "3.6.2"
  }
 },
 "nbformat": 4,
 "nbformat_minor": 2
}
