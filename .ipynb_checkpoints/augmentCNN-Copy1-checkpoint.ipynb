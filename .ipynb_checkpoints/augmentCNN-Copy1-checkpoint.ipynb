{
 "cells": [
  {
   "cell_type": "code",
   "execution_count": 1,
   "metadata": {},
   "outputs": [
    {
     "name": "stderr",
     "output_type": "stream",
     "text": [
      "ERROR:root:Line magic function `%maltplotlib` not found.\n"
     ]
    }
   ],
   "source": [
    "import pandas as pd\n",
    "import numpy as np\n",
    "from sklearn.model_selection import train_test_split\n",
    "import matplotlib.pyplot as plt\n",
    "%maltplotlib inline"
   ]
  },
  {
   "cell_type": "code",
   "execution_count": 2,
   "metadata": {},
   "outputs": [
    {
     "name": "stderr",
     "output_type": "stream",
     "text": [
      "Using TensorFlow backend.\n"
     ]
    }
   ],
   "source": [
    "from keras.models import Sequential\n",
    "from keras.layers import Dense, Dropout, Flatten, Activation\n",
    "from keras.layers import Conv2D, MaxPooling2D, BatchNormalization\n",
    "from keras.callbacks import EarlyStopping, ModelCheckpoint, ReduceLROnPlateau\n",
    "from keras.layers.normalization import BatchNormalization\n",
    "from keras.optimizers import Adam\n",
    "from keras.preprocessing.image import ImageDataGenerator"
   ]
  },
  {
   "cell_type": "markdown",
   "metadata": {},
   "source": [
    "### Preprocessing"
   ]
  },
  {
   "cell_type": "code",
   "execution_count": 3,
   "metadata": {
    "collapsed": true
   },
   "outputs": [],
   "source": [
    "def get_data(data_frame):\n",
    "    imgs = []\n",
    "    \n",
    "    for i, row in data_frame.iterrows():\n",
    "        band_1 = np.array(row['band_1']).reshape(75, 75)\n",
    "        band_2 = np.array(row['band_2']).reshape(75, 75)\n",
    "        band_3 = (band_1 + band_2)/2\n",
    "        \n",
    "        imgs.append(np.dstack((band_1, band_2, band_3)))\n",
    "        \n",
    "    return np.array(imgs)"
   ]
  },
  {
   "cell_type": "markdown",
   "metadata": {},
   "source": [
    "### Plotting"
   ]
  },
  {
   "cell_type": "code",
   "execution_count": 4,
   "metadata": {
    "collapsed": true
   },
   "outputs": [],
   "source": [
    "def show_all_bands(data, current):\n",
    "    f, (ax1, ax2, ax3) = plt.subplots(1, 3)\n",
    "\n",
    "    ax1.imshow(data[current, :, :, 0])\n",
    "    ax1.set_title(\"Band 1\")\n",
    "\n",
    "    ax2.imshow(data[current, :, :, 1])\n",
    "    ax2.set_title(\"Band 2\")\n",
    "    \n",
    "    ax3.imshow(data[current, :, :, 2])\n",
    "    ax3.set_title(\"Band 3\")\n",
    "\n",
    "    plt.show()"
   ]
  },
  {
   "cell_type": "markdown",
   "metadata": {},
   "source": [
    "### Model"
   ]
  },
  {
   "cell_type": "code",
   "execution_count": 5,
   "metadata": {
    "collapsed": true
   },
   "outputs": [],
   "source": [
    "def get_model():\n",
    "    model=Sequential()\n",
    "    \n",
    "    # CNN 1\n",
    "    model.add(Conv2D(64, kernel_size=(3, 3),activation='relu', input_shape=(75, 75, 3)))\n",
    "    model.add(MaxPooling2D(pool_size=(3, 3), strides=(2, 2)))\n",
    "    model.add(Dropout(0.2))\n",
    "\n",
    "    # CNN 2\n",
    "    model.add(Conv2D(128, kernel_size=(3, 3), activation='relu' ))\n",
    "    model.add(MaxPooling2D(pool_size=(2, 2), strides=(2, 2)))\n",
    "    model.add(Dropout(0.2))\n",
    "\n",
    "    # CNN 3\n",
    "    model.add(Conv2D(128, kernel_size=(3, 3), activation='relu'))\n",
    "    model.add(MaxPooling2D(pool_size=(2, 2), strides=(2, 2)))\n",
    "    model.add(Dropout(0.3))\n",
    "\n",
    "    #CNN 4\n",
    "    model.add(Conv2D(64, kernel_size=(3, 3), activation='relu'))\n",
    "    model.add(MaxPooling2D(pool_size=(2, 2), strides=(2, 2)))\n",
    "    model.add(Dropout(0.3))\n",
    "\n",
    "    # You must flatten the data for the dense layers\n",
    "    model.add(Flatten())\n",
    "\n",
    "    #Dense 1\n",
    "    model.add(Dense(512, activation='relu'))\n",
    "    model.add(Dropout(0.2))\n",
    "\n",
    "    #Dense 2\n",
    "    model.add(Dense(256, activation='relu'))\n",
    "    model.add(Dropout(0.2))\n",
    "\n",
    "    # Output \n",
    "    model.add(Dense(1, activation=\"sigmoid\"))\n",
    "\n",
    "    optimizer = Adam(lr=0.001, decay=0.0)\n",
    "    model.compile(loss='binary_crossentropy', optimizer=optimizer, metrics=['accuracy'])\n",
    "    \n",
    "    return model"
   ]
  },
  {
   "cell_type": "markdown",
   "metadata": {},
   "source": [
    "### Load data"
   ]
  },
  {
   "cell_type": "code",
   "execution_count": 6,
   "metadata": {
    "collapsed": true
   },
   "outputs": [],
   "source": [
    "df_train = pd.read_json('train.json')  # load pd dataframe"
   ]
  },
  {
   "cell_type": "code",
   "execution_count": 7,
   "metadata": {
    "collapsed": true
   },
   "outputs": [],
   "source": [
    "Y = np.array(df_train['is_iceberg'])  # extract labels"
   ]
  },
  {
   "cell_type": "code",
   "execution_count": 8,
   "metadata": {
    "collapsed": true
   },
   "outputs": [],
   "source": [
    "X = get_data(df_train)  # convert to [1603, 75, 75, 3]"
   ]
  },
  {
   "cell_type": "code",
   "execution_count": 9,
   "metadata": {
    "collapsed": true
   },
   "outputs": [],
   "source": [
    "del df_train"
   ]
  },
  {
   "cell_type": "code",
   "execution_count": 10,
   "metadata": {
    "collapsed": true
   },
   "outputs": [],
   "source": [
    "X_train, X_test, Y_train, Y_test = train_test_split(X, Y, test_size=0.25)"
   ]
  },
  {
   "cell_type": "code",
   "execution_count": 11,
   "metadata": {
    "collapsed": true
   },
   "outputs": [],
   "source": [
    "del X, Y"
   ]
  },
  {
   "cell_type": "code",
   "execution_count": 12,
   "metadata": {
    "collapsed": true
   },
   "outputs": [],
   "source": [
    "def normalize(data):\n",
    "    data[:, :, :, 0] = (data[:, :, :, 0] - X_train[:,:,:,0].mean()) / (X_train[:,:,:,0].max() - X_train[:,:,:,0].min())\n",
    "    data[:, :, :, 1] = (data[:, :, :, 1] - X_train[:,:,:,1].mean()) / (X_train[:,:,:,1].max() - X_train[:,:,:,1].min())\n",
    "    data[:, :, :, 2] = (data[:, :, :, 2] - X_train[:,:,:,2].mean()) / (X_train[:,:,:,2].max() - X_train[:,:,:,2].min())\n",
    "    return data\n",
    "\n",
    "# powinienem w ogole normalizowac kazdy channel osobno???"
   ]
  },
  {
   "cell_type": "code",
   "execution_count": 13,
   "metadata": {
    "collapsed": true
   },
   "outputs": [],
   "source": [
    "X_test = normalize(X_test)\n",
    "X_train = normalize(X_train)"
   ]
  },
  {
   "cell_type": "code",
   "execution_count": 14,
   "metadata": {},
   "outputs": [
    {
     "name": "stdout",
     "output_type": "stream",
     "text": [
      "(1203, 75, 75, 3)\n",
      "(1203,)\n",
      "(401, 75, 75, 3)\n",
      "(401,)\n"
     ]
    }
   ],
   "source": [
    "print(X_train.shape)\n",
    "print(Y_train.shape)\n",
    "print(X_test.shape)\n",
    "print(Y_test.shape)"
   ]
  },
  {
   "cell_type": "code",
   "execution_count": 15,
   "metadata": {},
   "outputs": [
    {
     "name": "stdout",
     "output_type": "stream",
     "text": [
      "0.003054983779\n"
     ]
    }
   ],
   "source": [
    "print(X_test[:, :, :, 0].mean())"
   ]
  },
  {
   "cell_type": "markdown",
   "metadata": {},
   "source": [
    "### Plot the pictures"
   ]
  },
  {
   "cell_type": "code",
   "execution_count": null,
   "metadata": {},
   "outputs": [],
   "source": [
    "show_all_bands(data=X_train, current=121)"
   ]
  },
  {
   "cell_type": "markdown",
   "metadata": {},
   "source": [
    "### Parameters"
   ]
  },
  {
   "cell_type": "code",
   "execution_count": 17,
   "metadata": {
    "collapsed": true
   },
   "outputs": [],
   "source": [
    "batch_size = 32\n",
    "epochs = 50"
   ]
  },
  {
   "cell_type": "markdown",
   "metadata": {},
   "source": [
    "### Pray to Hinton"
   ]
  },
  {
   "cell_type": "code",
   "execution_count": 18,
   "metadata": {
    "collapsed": true
   },
   "outputs": [],
   "source": [
    "datagen = ImageDataGenerator(horizontal_flip = True,\n",
    "                         vertical_flip = True,\n",
    "                         width_shift_range = 0, # tego nie testowalem\n",
    "                         height_shift_range = 0, # tego nie testowale\n",
    "                         channel_shift_range=0, # slabe efekty daje, moze trzeba lepiej dobrac wartosc\n",
    "                         zoom_range = 0.1,\n",
    "                         rotation_range = 10)"
   ]
  },
  {
   "cell_type": "code",
   "execution_count": 19,
   "metadata": {
    "collapsed": true
   },
   "outputs": [],
   "source": [
    "model = get_model()"
   ]
  },
  {
   "cell_type": "code",
   "execution_count": 20,
   "metadata": {},
   "outputs": [
    {
     "name": "stdout",
     "output_type": "stream",
     "text": [
      "_________________________________________________________________\n",
      "Layer (type)                 Output Shape              Param #   \n",
      "=================================================================\n",
      "conv2d_1 (Conv2D)            (None, 73, 73, 64)        1792      \n",
      "_________________________________________________________________\n",
      "max_pooling2d_1 (MaxPooling2 (None, 36, 36, 64)        0         \n",
      "_________________________________________________________________\n",
      "dropout_1 (Dropout)          (None, 36, 36, 64)        0         \n",
      "_________________________________________________________________\n",
      "conv2d_2 (Conv2D)            (None, 34, 34, 128)       73856     \n",
      "_________________________________________________________________\n",
      "max_pooling2d_2 (MaxPooling2 (None, 17, 17, 128)       0         \n",
      "_________________________________________________________________\n",
      "dropout_2 (Dropout)          (None, 17, 17, 128)       0         \n",
      "_________________________________________________________________\n",
      "conv2d_3 (Conv2D)            (None, 15, 15, 128)       147584    \n",
      "_________________________________________________________________\n",
      "max_pooling2d_3 (MaxPooling2 (None, 7, 7, 128)         0         \n",
      "_________________________________________________________________\n",
      "dropout_3 (Dropout)          (None, 7, 7, 128)         0         \n",
      "_________________________________________________________________\n",
      "conv2d_4 (Conv2D)            (None, 5, 5, 64)          73792     \n",
      "_________________________________________________________________\n",
      "max_pooling2d_4 (MaxPooling2 (None, 2, 2, 64)          0         \n",
      "_________________________________________________________________\n",
      "dropout_4 (Dropout)          (None, 2, 2, 64)          0         \n",
      "_________________________________________________________________\n",
      "flatten_1 (Flatten)          (None, 256)               0         \n",
      "_________________________________________________________________\n",
      "dense_1 (Dense)              (None, 512)               131584    \n",
      "_________________________________________________________________\n",
      "dropout_5 (Dropout)          (None, 512)               0         \n",
      "_________________________________________________________________\n",
      "dense_2 (Dense)              (None, 256)               131328    \n",
      "_________________________________________________________________\n",
      "dropout_6 (Dropout)          (None, 256)               0         \n",
      "_________________________________________________________________\n",
      "dense_3 (Dense)              (None, 1)                 257       \n",
      "=================================================================\n",
      "Total params: 560,193\n",
      "Trainable params: 560,193\n",
      "Non-trainable params: 0\n",
      "_________________________________________________________________\n"
     ]
    }
   ],
   "source": [
    "model.summary() # ~560k"
   ]
  },
  {
   "cell_type": "code",
   "execution_count": 21,
   "metadata": {
    "collapsed": true
   },
   "outputs": [],
   "source": [
    "reduce_lr_loss = ReduceLROnPlateau(monitor='val_loss', factor=0.1, patience=5, \n",
    "                                   verbose=1, epsilon=1e-4, mode='min')"
   ]
  },
  {
   "cell_type": "code",
   "execution_count": 22,
   "metadata": {},
   "outputs": [
    {
     "name": "stdout",
     "output_type": "stream",
     "text": [
      "Epoch 1/50\n",
      "38/37 [==============================] - 11s 283ms/step - loss: 0.6731 - acc: 0.5572 - val_loss: 0.5959 - val_acc: 0.6284\n",
      "Epoch 2/50\n",
      "38/37 [==============================] - 5s 129ms/step - loss: 0.5842 - acc: 0.6712 - val_loss: 0.6177 - val_acc: 0.6209\n",
      "Epoch 3/50\n",
      "38/37 [==============================] - 5s 128ms/step - loss: 0.5358 - acc: 0.7239 - val_loss: 0.6257 - val_acc: 0.6409\n",
      "Epoch 4/50\n",
      "38/37 [==============================] - 5s 129ms/step - loss: 0.4779 - acc: 0.7694 - val_loss: 0.4353 - val_acc: 0.7706\n",
      "Epoch 5/50\n",
      "38/37 [==============================] - 5s 128ms/step - loss: 0.4907 - acc: 0.7571 - val_loss: 0.4378 - val_acc: 0.7855\n",
      "Epoch 6/50\n",
      "38/37 [==============================] - 5s 128ms/step - loss: 0.4274 - acc: 0.8089 - val_loss: 0.3778 - val_acc: 0.8254\n",
      "Epoch 7/50\n",
      "38/37 [==============================] - 5s 128ms/step - loss: 0.4188 - acc: 0.8133 - val_loss: 0.3691 - val_acc: 0.8254\n",
      "Epoch 8/50\n",
      "38/37 [==============================] - 5s 128ms/step - loss: 0.3894 - acc: 0.8297 - val_loss: 0.3840 - val_acc: 0.8254\n",
      "Epoch 9/50\n",
      "38/37 [==============================] - 5s 128ms/step - loss: 0.3732 - acc: 0.8305 - val_loss: 0.3332 - val_acc: 0.8504\n",
      "Epoch 10/50\n",
      "38/37 [==============================] - 5s 133ms/step - loss: 0.3717 - acc: 0.8308 - val_loss: 0.3318 - val_acc: 0.8454\n",
      "Epoch 11/50\n",
      "38/37 [==============================] - 5s 129ms/step - loss: 0.3356 - acc: 0.8475 - val_loss: 0.3893 - val_acc: 0.8130\n",
      "Epoch 12/50\n",
      "38/37 [==============================] - 5s 129ms/step - loss: 0.3481 - acc: 0.8519 - val_loss: 0.3322 - val_acc: 0.8454\n",
      "Epoch 13/50\n",
      "38/37 [==============================] - 5s 135ms/step - loss: 0.3269 - acc: 0.8596 - val_loss: 0.3599 - val_acc: 0.8329\n",
      "Epoch 14/50\n",
      "38/37 [==============================] - 5s 135ms/step - loss: 0.3255 - acc: 0.8593 - val_loss: 0.2955 - val_acc: 0.8678\n",
      "Epoch 15/50\n",
      "38/37 [==============================] - 5s 131ms/step - loss: 0.3037 - acc: 0.8659 - val_loss: 0.3129 - val_acc: 0.8678\n",
      "Epoch 16/50\n",
      "38/37 [==============================] - 5s 140ms/step - loss: 0.3253 - acc: 0.8615 - val_loss: 0.3297 - val_acc: 0.8554\n",
      "Epoch 17/50\n",
      "38/37 [==============================] - 5s 136ms/step - loss: 0.3197 - acc: 0.8648 - val_loss: 0.2729 - val_acc: 0.8928\n",
      "Epoch 18/50\n",
      "38/37 [==============================] - 5s 127ms/step - loss: 0.3032 - acc: 0.8659 - val_loss: 0.4509 - val_acc: 0.8180\n",
      "Epoch 19/50\n",
      "38/37 [==============================] - 5s 126ms/step - loss: 0.2995 - acc: 0.8662 - val_loss: 0.2737 - val_acc: 0.8828\n",
      "Epoch 20/50\n",
      "38/37 [==============================] - 5s 126ms/step - loss: 0.2929 - acc: 0.8692 - val_loss: 0.2631 - val_acc: 0.8853\n",
      "Epoch 21/50\n",
      "38/37 [==============================] - 5s 126ms/step - loss: 0.2880 - acc: 0.8730 - val_loss: 0.2751 - val_acc: 0.8978\n",
      "Epoch 22/50\n",
      "38/37 [==============================] - 5s 126ms/step - loss: 0.3035 - acc: 0.8549 - val_loss: 0.2771 - val_acc: 0.8803\n",
      "Epoch 23/50\n",
      "38/37 [==============================] - 5s 126ms/step - loss: 0.2682 - acc: 0.8832 - val_loss: 0.3153 - val_acc: 0.8653\n",
      "Epoch 24/50\n",
      "38/37 [==============================] - 5s 126ms/step - loss: 0.2798 - acc: 0.8807 - val_loss: 0.2618 - val_acc: 0.8778\n",
      "Epoch 25/50\n",
      "38/37 [==============================] - 5s 126ms/step - loss: 0.2847 - acc: 0.8692 - val_loss: 0.2732 - val_acc: 0.8853\n",
      "Epoch 26/50\n",
      "38/37 [==============================] - 5s 126ms/step - loss: 0.2577 - acc: 0.8829 - val_loss: 0.2627 - val_acc: 0.8953\n",
      "Epoch 27/50\n",
      "38/37 [==============================] - 5s 126ms/step - loss: 0.2784 - acc: 0.8837 - val_loss: 0.3143 - val_acc: 0.8579\n",
      "Epoch 28/50\n",
      "38/37 [==============================] - 5s 126ms/step - loss: 0.2548 - acc: 0.8884 - val_loss: 0.2872 - val_acc: 0.8778\n",
      "Epoch 29/50\n",
      "38/37 [==============================] - 5s 126ms/step - loss: 0.2834 - acc: 0.8678 - val_loss: 0.2800 - val_acc: 0.8703\n",
      "Epoch 30/50\n",
      "38/37 [==============================] - 5s 126ms/step - loss: 0.2504 - acc: 0.9013 - val_loss: 0.2576 - val_acc: 0.8903\n",
      "Epoch 31/50\n",
      "38/37 [==============================] - 5s 126ms/step - loss: 0.2346 - acc: 0.8972 - val_loss: 0.2554 - val_acc: 0.8853\n",
      "Epoch 32/50\n",
      "38/37 [==============================] - 5s 126ms/step - loss: 0.2526 - acc: 0.8879 - val_loss: 0.2491 - val_acc: 0.8978\n",
      "Epoch 33/50\n",
      "38/37 [==============================] - 5s 126ms/step - loss: 0.2695 - acc: 0.8873 - val_loss: 0.2498 - val_acc: 0.8903\n",
      "Epoch 34/50\n",
      "38/37 [==============================] - 5s 126ms/step - loss: 0.2505 - acc: 0.8985 - val_loss: 0.2603 - val_acc: 0.8878\n",
      "Epoch 35/50\n",
      "38/37 [==============================] - 5s 127ms/step - loss: 0.2406 - acc: 0.9010 - val_loss: 0.2608 - val_acc: 0.8878\n",
      "Epoch 36/50\n",
      "38/37 [==============================] - 5s 127ms/step - loss: 0.2397 - acc: 0.8977 - val_loss: 0.2539 - val_acc: 0.8953\n",
      "Epoch 37/50\n",
      "38/37 [==============================] - 5s 127ms/step - loss: 0.2191 - acc: 0.9153 - val_loss: 0.2892 - val_acc: 0.8778\n",
      "Epoch 38/50\n",
      "37/37 [============================>.] - ETA: 0s - loss: 0.2702 - acc: 0.8834\n",
      "Epoch 00038: reducing learning rate to 0.00010000000474974513.\n",
      "38/37 [==============================] - 5s 130ms/step - loss: 0.2720 - acc: 0.8810 - val_loss: 0.2628 - val_acc: 0.8953\n",
      "Epoch 39/50\n",
      "38/37 [==============================] - 5s 127ms/step - loss: 0.2213 - acc: 0.9081 - val_loss: 0.2405 - val_acc: 0.9052\n",
      "Epoch 40/50\n",
      "38/37 [==============================] - 5s 126ms/step - loss: 0.2202 - acc: 0.9169 - val_loss: 0.2437 - val_acc: 0.9052\n",
      "Epoch 41/50\n",
      "38/37 [==============================] - 5s 127ms/step - loss: 0.2044 - acc: 0.9197 - val_loss: 0.2416 - val_acc: 0.9102\n",
      "Epoch 42/50\n",
      "38/37 [==============================] - 5s 126ms/step - loss: 0.2016 - acc: 0.9194 - val_loss: 0.2386 - val_acc: 0.8978\n",
      "Epoch 43/50\n",
      "38/37 [==============================] - 5s 127ms/step - loss: 0.2238 - acc: 0.9081 - val_loss: 0.2411 - val_acc: 0.9052\n",
      "Epoch 44/50\n",
      "38/37 [==============================] - 5s 127ms/step - loss: 0.2132 - acc: 0.9098 - val_loss: 0.2384 - val_acc: 0.9102\n",
      "Epoch 45/50\n",
      "38/37 [==============================] - 5s 126ms/step - loss: 0.2010 - acc: 0.9150 - val_loss: 0.2400 - val_acc: 0.9052\n",
      "Epoch 46/50\n",
      "38/37 [==============================] - 5s 127ms/step - loss: 0.1919 - acc: 0.9232 - val_loss: 0.2404 - val_acc: 0.9052\n",
      "Epoch 47/50\n",
      "38/37 [==============================] - 5s 126ms/step - loss: 0.1961 - acc: 0.9172 - val_loss: 0.2374 - val_acc: 0.9052\n",
      "Epoch 48/50\n",
      "38/37 [==============================] - 5s 132ms/step - loss: 0.2010 - acc: 0.9169 - val_loss: 0.2429 - val_acc: 0.9052\n",
      "Epoch 49/50\n",
      "38/37 [==============================] - 5s 136ms/step - loss: 0.1969 - acc: 0.9172 - val_loss: 0.2472 - val_acc: 0.9052\n",
      "Epoch 50/50\n",
      "38/37 [==============================] - 5s 134ms/step - loss: 0.1932 - acc: 0.9290 - val_loss: 0.2401 - val_acc: 0.9027\n"
     ]
    }
   ],
   "source": [
    "history = model.fit_generator(datagen.flow(X_train, Y_train, batch_size=batch_size),\n",
    "                            steps_per_epoch=len(X_train)/batch_size, epochs=epochs, callbacks=[reduce_lr_loss],\n",
    "                            validation_data=(X_test,Y_test))\n"
   ]
  },
  {
   "cell_type": "code",
   "execution_count": 23,
   "metadata": {},
   "outputs": [
    {
     "data": {
      "image/png": "[encoded data removed]",
      "text/plain": [
       "<matplotlib.figure.Figure at 0x7f13751bddd8>"
      ]
     },
     "metadata": {},
     "output_type": "display_data"
    }
   ],
   "source": [
    "plt.plot(history.history['loss'])\n",
    "plt.plot(history.history['val_loss'])\n",
    "plt.title('model loss')\n",
    "plt.ylabel('accuracy')\n",
    "plt.xlabel('epoch')\n",
    "plt.legend(['train', 'test'], loc='upper right')\n",
    "plt.show()"
   ]
  },
  {
   "cell_type": "code",
   "execution_count": 24,
   "metadata": {},
   "outputs": [
    {
     "data": {
      "image/png": "[encoded data removed]",
      "text/plain": [
       "<matplotlib.figure.Figure at 0x7f1367d1a898>"
      ]
     },
     "metadata": {},
     "output_type": "display_data"
    }
   ],
   "source": [
    "plt.plot(history.history['acc'])\n",
    "plt.plot(history.history['val_acc'])\n",
    "plt.title('model accuracy')\n",
    "plt.ylabel('accuracy')\n",
    "plt.xlabel('epoch')\n",
    "plt.legend(['train', 'test'], loc='lower right')\n",
    "plt.show()"
   ]
  },
  {
   "cell_type": "markdown",
   "metadata": {},
   "source": [
    "mialem przy jakichs innych parametrach okolo 0.22 loss na walidacji, ale nie umiem tego teraz odtworzyc, na pewno tez sporo zalezy od RNG"
   ]
  },
  {
   "cell_type": "markdown",
   "metadata": {},
   "source": [
    "### Test"
   ]
  },
  {
   "cell_type": "code",
   "execution_count": null,
   "metadata": {},
   "outputs": [],
   "source": [
    "del X_test, Y_test"
   ]
  },
  {
   "cell_type": "code",
   "execution_count": 25,
   "metadata": {},
   "outputs": [],
   "source": [
    "df_test = pd.read_json('test.json')"
   ]
  },
  {
   "cell_type": "code",
   "execution_count": 26,
   "metadata": {
    "collapsed": true
   },
   "outputs": [],
   "source": [
    "ID = df_test['id']"
   ]
  },
  {
   "cell_type": "code",
   "execution_count": 27,
   "metadata": {
    "collapsed": true
   },
   "outputs": [],
   "source": [
    "X = get_data(df_test)"
   ]
  },
  {
   "cell_type": "code",
   "execution_count": 29,
   "metadata": {
    "collapsed": true
   },
   "outputs": [],
   "source": [
    "del df_test"
   ]
  },
  {
   "cell_type": "code",
   "execution_count": 30,
   "metadata": {
    "collapsed": true
   },
   "outputs": [],
   "source": [
    "XX = normalize(X)"
   ]
  },
  {
   "cell_type": "code",
   "execution_count": 32,
   "metadata": {},
   "outputs": [
    {
     "name": "stdout",
     "output_type": "stream",
     "text": [
      "-23.569442951\n"
     ]
    }
   ],
   "source": [
    "print(XX[:,:,:,2].mean())"
   ]
  },
  {
   "cell_type": "code",
   "execution_count": null,
   "metadata": {
    "collapsed": true
   },
   "outputs": [],
   "source": [
    "pred = model.predict_proba(X)"
   ]
  },
  {
   "cell_type": "code",
   "execution_count": null,
   "metadata": {
    "collapsed": true
   },
   "outputs": [],
   "source": [
    "print(pred)"
   ]
  },
  {
   "cell_type": "code",
   "execution_count": null,
   "metadata": {
    "collapsed": true
   },
   "outputs": [],
   "source": [
    "submission = pd.DataFrame()\n",
    "submission['id'] = ID\n",
    "submission['is_iceberg'] = pred\n",
    "submission.to_csv('submissions3.csv', index=False)"
   ]
  },
  {
   "cell_type": "code",
   "execution_count": null,
   "metadata": {
    "collapsed": true
   },
   "outputs": [],
   "source": []
  }
 ],
 "metadata": {
  "kernelspec": {
   "display_name": "Python 3",
   "language": "python",
   "name": "python3"
  },
  "language_info": {
   "codemirror_mode": {
    "name": "ipython",
    "version": 3
   },
   "file_extension": ".py",
   "mimetype": "text/x-python",
   "name": "python",
   "nbconvert_exporter": "python",
   "pygments_lexer": "ipython3",
   "version": "3.6.2"
  }
 },
 "nbformat": 4,
 "nbformat_minor": 2
}
