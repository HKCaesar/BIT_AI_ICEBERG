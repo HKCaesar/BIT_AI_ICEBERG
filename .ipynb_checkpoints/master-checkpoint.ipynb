{
 "cells": [
  {
   "cell_type": "code",
   "execution_count": 2,
   "metadata": {},
   "outputs": [
    {
     "name": "stderr",
     "output_type": "stream",
     "text": [
      "Using TensorFlow backend.\n"
     ]
    }
   ],
   "source": [
    "import numpy as np\n",
    "\n",
    "from keras.preprocessing.image import ImageDataGenerator\n",
    "from keras.preprocessing.image import *\n",
    "from keras.layers.normalization import BatchNormalization\n",
    "from keras.models import Sequential\n",
    "from keras.models import Model\n",
    "from keras.layers import Conv2D, MaxPooling2D\n",
    "from keras.layers import Activation, Dropout, Flatten, Dense, ZeroPadding2D\n",
    "from keras.layers import BatchNormalization\n",
    "from keras.layers import concatenate\n",
    "from keras.layers import Input\n",
    "from keras import initializers\n",
    "from keras import regularizers\n",
    "from keras.layers.advanced_activations import LeakyReLU\n",
    "from sklearn.model_selection import StratifiedKFold\n",
    "from scipy import signal\n",
    "from skimage.restoration import denoise_tv_chambolle\n",
    "from skimage.filters import gaussian\n",
    "from keras.utils.np_utils import to_categorical\n",
    "import json\n",
    "import pandas as pd\n",
    "import random\n",
    "from keras import backend as K\n",
    "import matplotlib.pyplot as plt\n",
    "from sklearn.metrics import accuracy_score\n",
    "from sklearn.metrics import confusion_matrix\n",
    "from sklearn.model_selection import train_test_split"
   ]
  },
  {
   "cell_type": "code",
   "execution_count": null,
   "metadata": {
    "collapsed": true
   },
   "outputs": [],
   "source": [
    "image_height = 75\n",
    "image_width = 75\n",
    "\n",
    "train_samples = 1300\n",
    "validation_samples = 304\n",
    "\n",
    "epochs = 20\n",
    "batch_size = 32\n",
    "number_of_classes = 2"
   ]
  },
  {
   "cell_type": "code",
   "execution_count": null,
   "metadata": {
    "collapsed": true
   },
   "outputs": [],
   "source": [
    "K.set_image_dim_ordering('tf')\n",
    "\n",
    "data = pd.read_json('train.json')\n",
    "\n",
    "data = data.drop('id', 1)\n",
    "data = data.drop('inc_angle', 1)"
   ]
  },
  {
   "cell_type": "code",
   "execution_count": null,
   "metadata": {
    "collapsed": true
   },
   "outputs": [],
   "source": [
    "Y = data['is_iceberg']\n",
    "\n",
    "# data = data.drop('is_iceberg', 1)\n",
    "X1 = data['band_1']\n",
    "X2 = data['band_2']\n",
    "X1 = np.array(X1)\n",
    "X2 = np.array(X2)"
   ]
  },
  {
   "cell_type": "code",
   "execution_count": null,
   "metadata": {
    "collapsed": true
   },
   "outputs": [],
   "source": [
    "denoise = lambda x: np.array([denoise_tv_chambolle(np.array(i), weight=0.05).reshape(75, 75) for i in x])"
   ]
  },
  {
   "cell_type": "code",
   "execution_count": null,
   "metadata": {},
   "outputs": [],
   "source": [
    "X_R1 = denoise(X1)\n",
    "X_R2 = denoise(X2)\n",
    "X_R1.shape"
   ]
  },
  {
   "cell_type": "code",
   "execution_count": null,
   "metadata": {},
   "outputs": [],
   "source": [
    "y = to_categorical(Y)\n",
    "\n",
    "y.shape\n",
    "# y = Y.values"
   ]
  },
  {
   "cell_type": "code",
   "execution_count": null,
   "metadata": {
    "collapsed": true
   },
   "outputs": [],
   "source": [
    "normalize = lambda x: x/(np.max(x)-np.min(x))"
   ]
  },
  {
   "cell_type": "code",
   "execution_count": null,
   "metadata": {},
   "outputs": [],
   "source": [
    "X_train, X_test, y_train, y_test = train_test_split(np.stack([X_R1, X_R2], axis=3), y, test_size=0.2)\n",
    "\n",
    "for i in [X_train, X_test]:\n",
    "    i = normalize(i)\n",
    "\n",
    "X_train = X_train[:, :, :, :, np.newaxis]\n",
    "X_test = X_test[:, :, :, :, np.newaxis] \n",
    "\n",
    "X_train = [X_train[:, :, :, 0], X_train[:, :, :, 1]]\n",
    "X_test = [X_test[:, :, :, 0], X_test[:, :, :, 1]]\n",
    "\n",
    "print(X_train[0].shape)\n",
    "print(X_test[0].shape)\n",
    "print(y_train.shape)\n",
    "print(y_test.shape)"
   ]
  },
  {
   "cell_type": "code",
   "execution_count": null,
   "metadata": {
    "scrolled": false
   },
   "outputs": [],
   "source": [
    "%matplotlib inline\n",
    "f, (ax1, ax2) = plt.subplots(1, 2, sharex=True)\n",
    "\n",
    "sample_image = (X_train[0][0])\n",
    "sample_image = np.reshape(sample_image, (75,75))\n",
    "ax1.imshow(sample_image)\n",
    "ax1.set_title(\"Band 1\")\n",
    "sample_image = (X_train[1][0])\n",
    "sample_image = np.reshape(sample_image, (75,75))\n",
    "ax2.imshow(sample_image)\n",
    "ax2.set_title(\"Band 2\")\n",
    "\n",
    "plt.show()\n",
    "if(y_train[0][1]==0):\n",
    "    print('Ship')\n",
    "else:\n",
    "    print('Iceberg')"
   ]
  },
  {
   "cell_type": "code",
   "execution_count": null,
   "metadata": {
    "collapsed": true
   },
   "outputs": [],
   "source": [
    "# Alternative go at multiple inputs\n",
    "\n",
    "band_input_B1 = Input(shape=(image_width, image_height, 1))\n",
    "band_input_B2 = Input(shape=(image_width, image_height, 1))\n",
    "\n",
    "# Band 1 architecture\n",
    "# CNN1\n",
    "CNN_L1_B1 = Conv2D(32, (3, 3))(band_input_B1)\n",
    "CNN_L1_B1 = LeakyReLU(alpha=.01)(CNN_L1_B1)\n",
    "CNN_L1_B1 = MaxPooling2D(pool_size=(2, 2))(CNN_L1_B1)\n",
    "\n",
    "# CNN2\n",
    "CNN_L2_B1 = BatchNormalization()(CNN_L1_B1)\n",
    "CNN_L2_B1 = Conv2D(64, (3, 3))(CNN_L2_B1)\n",
    "CNN_L2_B1 = LeakyReLU(alpha=.01)(CNN_L2_B1)\n",
    "CNN_L2_B1 = MaxPooling2D(pool_size=(2, 2))(CNN_L2_B1)\n",
    "\n",
    "# CNN3\n",
    "CNN_L3_B1 = BatchNormalization()(CNN_L2_B1)\n",
    "CNN_L3_B1 = Conv2D(128, (3, 3))(CNN_L3_B1)\n",
    "CNN_L3_B1 = LeakyReLU(alpha=.01)(CNN_L3_B1)\n",
    "CNN_L3_B1 = MaxPooling2D(pool_size=(2, 2))(CNN_L3_B1)\n",
    "\n",
    "# CNN4\n",
    "CNN_L4_B1 = BatchNormalization()(CNN_L3_B1)\n",
    "CNN_L4_B1 = Conv2D(256, (3, 3))(CNN_L4_B1)\n",
    "CNN_L4_B1 = LeakyReLU(alpha=.01)(CNN_L4_B1)\n",
    "CNN_L4_B1 = MaxPooling2D(pool_size=(2, 2))(CNN_L4_B1)\n",
    "\n",
    "# CNN output\n",
    "CNN_OUT_B1 = Flatten()(CNN_L4_B1)\n",
    "CNN_OUT_B1 = BatchNormalization()(CNN_OUT_B1)\n",
    "\n",
    "# Band 2 architecture\n",
    "# CNN1\n",
    "CNN_L1_B2 = Conv2D(32, (3, 3))(band_input_B2)\n",
    "CNN_L1_B2 = LeakyReLU(alpha=.01)(CNN_L1_B2)\n",
    "CNN_L1_B2 = MaxPooling2D(pool_size=(2, 2))(CNN_L1_B2)\n",
    "\n",
    "# CNN2\n",
    "CNN_L2_B2 = BatchNormalization()(CNN_L1_B2)\n",
    "CNN_L2_B2 = Conv2D(64, (3, 3))(CNN_L2_B2)\n",
    "CNN_L2_B2 = LeakyReLU(alpha=.01)(CNN_L2_B2)\n",
    "CNN_L2_B2 = MaxPooling2D(pool_size=(2, 2))(CNN_L2_B2)\n",
    "\n",
    "# CNN3\n",
    "CNN_L3_B2 = BatchNormalization()(CNN_L2_B2)\n",
    "CNN_L3_B2 = Conv2D(128, (3, 3))(CNN_L3_B2)\n",
    "CNN_L3_B2 = LeakyReLU(alpha=.01)(CNN_L3_B2)\n",
    "CNN_L3_B2 = MaxPooling2D(pool_size=(2, 2))(CNN_L3_B2)\n",
    "\n",
    "# CNN4\n",
    "CNN_L4_B2 = BatchNormalization()(CNN_L3_B2)\n",
    "CNN_L4_B2 = Conv2D(256, (3, 3))(CNN_L4_B2)\n",
    "CNN_L4_B2 = LeakyReLU(alpha=.01)(CNN_L4_B2)\n",
    "CNN_L4_B2 = MaxPooling2D(pool_size=(2, 2))(CNN_L4_B2)\n",
    "\n",
    "# CNN output\n",
    "CNN_OUT_B2 = Flatten()(CNN_L4_B2)\n",
    "CNN_OUT_B2 = BatchNormalization()(CNN_OUT_B2)\n",
    "\n",
    "# Concat bands\n",
    "MERGE_LAYER = concatenate([CNN_OUT_B1, CNN_OUT_B2])\n",
    "\n",
    "# Deep layers processing\n",
    "# L1\n",
    "DL_L1 = BatchNormalization()(MERGE_LAYER)\n",
    "DL_L1 = Dense(512, use_bias=True, bias_initializer='zeros')(DL_L1)\n",
    "DL_L1 = LeakyReLU(alpha=.01)(DL_L1)\n",
    "DL_L1 = Dropout(0.15)(DL_L1)\n",
    "\n",
    "# L2\n",
    "DL_L2 = BatchNormalization()(DL_L1)\n",
    "DL_L2 = Dense(256, use_bias=True, bias_initializer='zeros')(DL_L2)\n",
    "DL_L2 = LeakyReLU(alpha=.01)(DL_L2)\n",
    "DL_L2 = Dropout(0.15)(DL_L2)\n",
    "\n",
    "# L3\n",
    "DL_L3 = BatchNormalization()(DL_L2)\n",
    "DL_L3 = Dense(128, use_bias=True, bias_initializer='zeros')(DL_L3)\n",
    "DL_L3 = LeakyReLU(alpha=.01)(DL_L3)\n",
    "DL_L3 = Dropout(0.15)(DL_L3)\n",
    "\n",
    "# L4\n",
    "DL_L4 = BatchNormalization()(DL_L3)\n",
    "DL_L4 = Dense(64, use_bias=True, bias_initializer='zeros')(DL_L4)\n",
    "DL_L4 = LeakyReLU(alpha=.01)(DL_L4)\n",
    "DL_L4 = Dropout(0.15)(DL_L4)\n",
    "\n",
    "OUTPUT = Dense(number_of_classes, activation='softmax')(DL_L4)\n",
    "\n",
    "# model.summary()"
   ]
  },
  {
   "cell_type": "code",
   "execution_count": null,
   "metadata": {},
   "outputs": [],
   "source": [
    "model = Model(inputs = [band_input_B1, band_input_B2], outputs=OUTPUT)\n",
    "model.compile(optimizer='adam',\n",
    "             loss='categorical_crossentropy',\n",
    "             metrics=['accuracy'])\n",
    "\n",
    "model.fit(X_train, y_train,\n",
    "              batch_size=batch_size, validation_data=(X_test, y_test),\n",
    "              epochs=epochs,\n",
    "                shuffle=False)"
   ]
  },
  {
   "cell_type": "code",
   "execution_count": 26,
   "metadata": {
    "collapsed": true
   },
   "outputs": [],
   "source": [
    "y_pred = model.predict(X_test)"
   ]
  },
  {
   "cell_type": "code",
   "execution_count": 27,
   "metadata": {
    "collapsed": true
   },
   "outputs": [],
   "source": [
    "for i in range(len(y_pred)):\n",
    "    y_pred[i, :] = np.round(y_pred[i, :])"
   ]
  },
  {
   "cell_type": "code",
   "execution_count": 29,
   "metadata": {},
   "outputs": [
    {
     "name": "stdout",
     "output_type": "stream",
     "text": [
      "AC:0.87 PR:0.91 RE:0.83 F1:0.87\n"
     ]
    }
   ],
   "source": [
    "#Precision: how many 1 are true 1?\n",
    "#Recall: how many 0 are true 0? \n",
    "#F1Score: balance between those two\n",
    "\n",
    "y_comp = confusion_matrix(y_test[:, 0], y_pred[:, 0])\n",
    "precision = y_comp[1, 1] / (y_comp[0, 1] + y_comp[1, 1])\n",
    "recall = y_comp[1, 1] / (y_comp[1, 0] + y_comp[1, 1])\n",
    "accuracy = accuracy_score(y_test[:, 0], y_pred[:, 0])\n",
    "f1score = 2 * precision * recall / (precision + recall)\n",
    "print(\"AC:%.2f PR:%.2f RE:%.2f F1:%.2f\" % (accuracy, precision, recall, f1score))"
   ]
  },
  {
   "cell_type": "code",
   "execution_count": 31,
   "metadata": {},
   "outputs": [
    {
     "data": {
      "image/png": "[encoded data removed]",
      "text/plain": [
       "<matplotlib.figure.Figure at 0x7f1c8f21bc50>"
      ]
     },
     "metadata": {},
     "output_type": "display_data"
    }
   ],
   "source": [
    "ind = np.arange(2)  # the x locations for the groups\n",
    "width = 0.15       # the width of the bars\n",
    "\n",
    "fig, ax = plt.subplots()\n",
    "rects1 = ax.bar(ind, [np.sum(y_test[:, 0]), len(y_test[:, 0])-np.sum(y_test[:, 0])], width, color='r')\n",
    "rects2 = ax.bar(ind + width, [np.sum(y_pred[:, 0]), len(y_pred[:, 0])-np.sum(y_pred[:, 0])], width, color='b')\n",
    "\n",
    "ax.set_xticks(ind + width)\n",
    "ax.set_xticklabels(('0', '1'))\n",
    "\n",
    "ax.legend((rects1[0], rects2[0]), ('Test set', 'Predicted'))\n",
    "plt.xlim(-0.5, 2)\n",
    "\n",
    "plt.show()"
   ]
  },
  {
   "cell_type": "code",
   "execution_count": 52,
   "metadata": {
    "collapsed": true
   },
   "outputs": [],
   "source": [
    "filename = (\"model_%i_%i_%i_%i.h5\" % (accuracy*100, precision*100, recall*100, f1score*100))\n",
    "model.save(filename)"
   ]
  },
  {
   "cell_type": "code",
   "execution_count": null,
   "metadata": {
    "collapsed": true
   },
   "outputs": [],
   "source": [
    "test = pd.read_json('test.json')"
   ]
  },
  {
   "cell_type": "code",
   "execution_count": null,
   "metadata": {
    "collapsed": true
   },
   "outputs": [],
   "source": [
    "submission = pd.DataFrame()\n",
    "submission['id']=test['id']\n",
    "submission['is_iceberg']=preds\n",
    "submission.to_csv('sub.csv', index=False)"
   ]
  }
 ],
 "metadata": {
  "anaconda-cloud": {},
  "kernelspec": {
   "display_name": "Python 3",
   "language": "python",
   "name": "python3"
  },
  "language_info": {
   "codemirror_mode": {
    "name": "ipython",
    "version": 3
   },
   "file_extension": ".py",
   "mimetype": "text/x-python",
   "name": "python",
   "nbconvert_exporter": "python",
   "pygments_lexer": "ipython3",
   "version": "3.5.2"
  }
 },
 "nbformat": 4,
 "nbformat_minor": 2
}
