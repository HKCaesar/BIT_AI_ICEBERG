{
 "cells": [
  {
   "cell_type": "code",
   "execution_count": 1,
   "metadata": {},
   "outputs": [
    {
     "name": "stderr",
     "output_type": "stream",
     "text": [
      "Using TensorFlow backend.\n"
     ]
    }
   ],
   "source": [
    "import numpy as np\n",
    "np.random.seed(42)\n",
    "\n",
    "from keras.preprocessing.image import ImageDataGenerator\n",
    "from keras.preprocessing.image import *\n",
    "from keras.layers.normalization import BatchNormalization\n",
    "from keras.models import Sequential\n",
    "from keras.layers import Conv2D, MaxPooling2D\n",
    "from keras.layers import Activation, Dropout, Flatten, Dense, ZeroPadding2D\n",
    "from keras.layers import BatchNormalization\n",
    "from keras import initializers\n",
    "from keras import regularizers\n",
    "from keras.layers.advanced_activations import LeakyReLU\n",
    "from sklearn.model_selection import StratifiedKFold\n",
    "from keras.utils.np_utils import to_categorical\n",
    "import json\n",
    "import pandas as pd\n",
    "import random\n",
    "from keras import backend as K\n",
    "import matplotlib.pyplot as plt\n",
    "from sklearn.metrics import accuracy_score\n",
    "from sklearn.metrics import confusion_matrix\n",
    "K.set_image_dim_ordering('tf')\n",
    "\n",
    "data = pd.read_json('train.json')\n",
    "\n",
    "data = data.drop('id', 1)\n",
    "data = data.drop('inc_angle', 1)\n",
    "\n"
   ]
  },
  {
   "cell_type": "code",
   "execution_count": 2,
   "metadata": {
    "collapsed": true
   },
   "outputs": [],
   "source": [
    "Y = data['is_iceberg']\n",
    "\n",
    "data = data.drop('is_iceberg', 1)\n"
   ]
  },
  {
   "cell_type": "code",
   "execution_count": 3,
   "metadata": {
    "collapsed": true
   },
   "outputs": [],
   "source": [
    "X1 = data['band_1']\n",
    "X2 = data['band_2']\n",
    "X1 = np.array(X1)\n",
    "X2 = np.array(X2)"
   ]
  },
  {
   "cell_type": "code",
   "execution_count": 4,
   "metadata": {},
   "outputs": [
    {
     "data": {
      "text/plain": [
       "(1604, 75, 75, 1)"
      ]
     },
     "execution_count": 4,
     "metadata": {},
     "output_type": "execute_result"
    }
   ],
   "source": [
    "X = []\n",
    "\n",
    "for i in range(len(X1)):\n",
    "    X.extend(X1[i])\n",
    "    \n",
    "X = np.array(X)\n",
    "X = np.reshape(X, (len(X1), 75, 75, 1))\n",
    "\n",
    "X.shape"
   ]
  },
  {
   "cell_type": "code",
   "execution_count": 5,
   "metadata": {},
   "outputs": [
    {
     "data": {
      "text/plain": [
       "(1604, 2)"
      ]
     },
     "execution_count": 5,
     "metadata": {},
     "output_type": "execute_result"
    }
   ],
   "source": [
    "Y = to_categorical(Y)\n",
    "\n",
    "Y.shape"
   ]
  },
  {
   "cell_type": "code",
   "execution_count": 7,
   "metadata": {},
   "outputs": [
    {
     "ename": "TypeError",
     "evalue": "tuple indices must be integers or slices, not tuple",
     "output_type": "error",
     "traceback": [
      "\u001b[0;31m---------------------------------------------------------------------------\u001b[0m",
      "\u001b[0;31mTypeError\u001b[0m                                 Traceback (most recent call last)",
      "\u001b[0;32m<ipython-input-7-1caaddcfbacd>\u001b[0m in \u001b[0;36m<module>\u001b[0;34m()\u001b[0m\n\u001b[1;32m      9\u001b[0m \u001b[0mnumber_of_classes\u001b[0m \u001b[0;34m=\u001b[0m \u001b[0;36m2\u001b[0m\u001b[0;34m\u001b[0m\u001b[0m\n\u001b[1;32m     10\u001b[0m \u001b[0;34m\u001b[0m\u001b[0m\n\u001b[0;32m---> 11\u001b[0;31m \u001b[0mX_train\u001b[0m \u001b[0;34m=\u001b[0m \u001b[0mX\u001b[0m\u001b[0;34m[\u001b[0m\u001b[0;34m:\u001b[0m\u001b[0mtrain_samples\u001b[0m\u001b[0;34m,\u001b[0m \u001b[0;34m:\u001b[0m\u001b[0;34m,\u001b[0m \u001b[0;34m:\u001b[0m \u001b[0;34m,\u001b[0m\u001b[0;34m:\u001b[0m\u001b[0;34m]\u001b[0m\u001b[0;34m\u001b[0m\u001b[0m\n\u001b[0m\u001b[1;32m     12\u001b[0m \u001b[0mX_train\u001b[0m \u001b[0;34m=\u001b[0m \u001b[0mabs\u001b[0m\u001b[0;34m(\u001b[0m\u001b[0mX_train\u001b[0m\u001b[0;34m/\u001b[0m\u001b[0;34m(\u001b[0m\u001b[0mnp\u001b[0m\u001b[0;34m.\u001b[0m\u001b[0mmax\u001b[0m\u001b[0;34m(\u001b[0m\u001b[0mX_train\u001b[0m\u001b[0;34m)\u001b[0m \u001b[0;34m-\u001b[0m \u001b[0mnp\u001b[0m\u001b[0;34m.\u001b[0m\u001b[0mmin\u001b[0m\u001b[0;34m(\u001b[0m\u001b[0mX_train\u001b[0m\u001b[0;34m)\u001b[0m\u001b[0;34m)\u001b[0m\u001b[0;34m)\u001b[0m\u001b[0;34m\u001b[0m\u001b[0m\n\u001b[1;32m     13\u001b[0m \u001b[0mX_test\u001b[0m \u001b[0;34m=\u001b[0m \u001b[0mX\u001b[0m\u001b[0;34m[\u001b[0m\u001b[0mtrain_samples\u001b[0m\u001b[0;34m:\u001b[0m\u001b[0;34m,\u001b[0m \u001b[0;34m:\u001b[0m\u001b[0;34m,\u001b[0m \u001b[0;34m:\u001b[0m\u001b[0;34m,\u001b[0m \u001b[0;34m:\u001b[0m\u001b[0;34m]\u001b[0m\u001b[0;34m\u001b[0m\u001b[0m\n",
      "\u001b[0;31mTypeError\u001b[0m: tuple indices must be integers or slices, not tuple"
     ]
    }
   ],
   "source": [
    "image_height = 75\n",
    "image_width = 75\n",
    "\n",
    "train_samples = 1300\n",
    "validation_samples = 304\n",
    "\n",
    "epochs = 20\n",
    "batch_size = 32\n",
    "number_of_classes = 2\n",
    "\n",
    "X_train = X[:train_samples, :, : ,:]\n",
    "X_train = abs(X_train/(np.max(X_train) - np.min(X_train)))\n",
    "X_test = X[train_samples:, :, :, :]\n",
    "X_test = abs(X_test/(np.max(X_test) - np.min(X_test)))\n",
    "Y_train = Y[:train_samples, :]\n",
    "Y_test = Y[train_samples:, :]\n",
    "\n",
    "print(X.shape)\n",
    "print(X_train.shape)\n",
    "print(X_test.shape)\n",
    "print(Y_train.shape)\n",
    "print(Y_test.shape)"
   ]
  },
  {
   "cell_type": "code",
   "execution_count": 52,
   "metadata": {
    "scrolled": true
   },
   "outputs": [
    {
     "data": {
      "text/plain": [
       "<matplotlib.image.AxesImage at 0x24c2e871f98>"
      ]
     },
     "execution_count": 52,
     "metadata": {},
     "output_type": "execute_result"
    },
    {
     "data": {
      "image/png": "[encoded data removed]",
      "text/plain": [
       "<matplotlib.figure.Figure at 0x24c3290f748>"
      ]
     },
     "metadata": {},
     "output_type": "display_data"
    }
   ],
   "source": [
    "%matplotlib inline\n",
    "\n",
    "sample_image = (X_train[0])\n",
    "\n",
    "sample_image = np.reshape(sample_image, (75,75))\n",
    "plt.imshow(sample_image)"
   ]
  },
  {
   "cell_type": "code",
   "execution_count": 54,
   "metadata": {
    "collapsed": true
   },
   "outputs": [],
   "source": [
    "model1 = Sequential()\n",
    "\n",
    "model1.add(Conv2D(32, (3, 3), activation='relu', input_shape=(image_width, image_height, 1)))\n",
    "\n",
    "model1.add(BatchNormalization())\n",
    "model1.add(Conv2D(64, (3, 3), activation='relu'))\n",
    "\n",
    "model1.add(BatchNormalization())\n",
    "model1.add(MaxPooling2D(pool_size=(2, 2)))\n",
    "model1.add(Conv2D(128, (3, 3), activation='relu'))\n",
    "\n",
    "model1.add(BatchNormalization())\n",
    "model1.add(Conv2D(256, (3, 3), activation='relu'))\n",
    "\n",
    "model1.add(BatchNormalization())\n",
    "model1.add(MaxPooling2D(pool_size=(2, 2)))\n",
    "\n",
    "model1.add(Flatten())\n",
    "model1.add(BatchNormalization())\n",
    "model1.add(Dropout(0.5))\n",
    "model1.add(Dense(512, activation='relu', use_bias=True, bias_initializer='zeros'))\n",
    "\n",
    "model1.add(BatchNormalization())\n",
    "model1.add(Dense(number_of_classes, activation='softmax'))\n"
   ]
  },
  {
   "cell_type": "code",
   "execution_count": 55,
   "metadata": {
    "collapsed": true
   },
   "outputs": [],
   "source": [
    "model1.compile(optimizer='adam',\n",
    "              loss='categorical_crossentropy',\n",
    "              metrics=['accuracy'])\n"
   ]
  },
  {
   "cell_type": "code",
   "execution_count": 56,
   "metadata": {},
   "outputs": [
    {
     "name": "stdout",
     "output_type": "stream",
     "text": [
      "Train on 1300 samples, validate on 304 samples\n",
      "Epoch 1/20\n",
      "1300/1300 [==============================] - 401s - loss: 0.8422 - acc: 0.6854 - val_loss: 1.4916 - val_acc: 0.3355\n",
      "Epoch 2/20\n",
      "1300/1300 [==============================] - 333s - loss: 0.3594 - acc: 0.8469 - val_loss: 2.1992 - val_acc: 0.3355\n",
      "Epoch 3/20\n",
      "1300/1300 [==============================] - 304s - loss: 0.2565 - acc: 0.8962 - val_loss: 3.8136 - val_acc: 0.3355\n",
      "Epoch 4/20\n",
      "1300/1300 [==============================] - 303s - loss: 0.1743 - acc: 0.9354 - val_loss: 0.8535 - val_acc: 0.3355\n",
      "Epoch 5/20\n",
      "1300/1300 [==============================] - 283s - loss: 0.1499 - acc: 0.9385 - val_loss: 1.6131 - val_acc: 0.3355\n",
      "Epoch 6/20\n",
      "1300/1300 [==============================] - 283s - loss: 0.1294 - acc: 0.9500 - val_loss: 1.3706 - val_acc: 0.6645\n",
      "Epoch 7/20\n",
      "1300/1300 [==============================] - 283s - loss: 0.1445 - acc: 0.9446 - val_loss: 3.0644 - val_acc: 0.3355\n",
      "Epoch 8/20\n",
      "1300/1300 [==============================] - 284s - loss: 0.1550 - acc: 0.9485 - val_loss: 3.7334 - val_acc: 0.3355\n",
      "Epoch 9/20\n",
      "1300/1300 [==============================] - 287s - loss: 0.0847 - acc: 0.9708 - val_loss: 1.8041 - val_acc: 0.3355\n",
      "Epoch 10/20\n",
      "1300/1300 [==============================] - 285s - loss: 0.0703 - acc: 0.9731 - val_loss: 3.0971 - val_acc: 0.3355\n",
      "Epoch 11/20\n",
      "1300/1300 [==============================] - 283s - loss: 0.0842 - acc: 0.9662 - val_loss: 2.8862 - val_acc: 0.3355\n",
      "Epoch 12/20\n",
      "1300/1300 [==============================] - 283s - loss: 0.0905 - acc: 0.9700 - val_loss: 8.5343 - val_acc: 0.3355\n",
      "Epoch 13/20\n",
      "1300/1300 [==============================] - 284s - loss: 0.0676 - acc: 0.9769 - val_loss: 3.9716 - val_acc: 0.3421\n",
      "Epoch 14/20\n",
      "1300/1300 [==============================] - 284s - loss: 0.0722 - acc: 0.9785 - val_loss: 1.0740 - val_acc: 0.6480\n",
      "Epoch 15/20\n",
      "1300/1300 [==============================] - 284s - loss: 0.0334 - acc: 0.9885 - val_loss: 2.7777 - val_acc: 0.4671\n",
      "Epoch 16/20\n",
      "1300/1300 [==============================] - 284s - loss: 0.0400 - acc: 0.9869 - val_loss: 1.9159 - val_acc: 0.5526\n",
      "Epoch 17/20\n",
      "1300/1300 [==============================] - 290s - loss: 0.0903 - acc: 0.9692 - val_loss: 7.1253 - val_acc: 0.3388\n",
      "Epoch 18/20\n",
      "1300/1300 [==============================] - 283s - loss: 0.0766 - acc: 0.9731 - val_loss: 2.2086 - val_acc: 0.5132\n",
      "Epoch 19/20\n",
      "1300/1300 [==============================] - 286s - loss: 0.1166 - acc: 0.9615 - val_loss: 1.0621 - val_acc: 0.6382\n",
      "Epoch 20/20\n",
      "1300/1300 [==============================] - 289s - loss: 0.1209 - acc: 0.9546 - val_loss: 3.3414 - val_acc: 0.6908\n"
     ]
    },
    {
     "data": {
      "text/plain": [
       "<keras.callbacks.History at 0x24c612612b0>"
      ]
     },
     "execution_count": 56,
     "metadata": {},
     "output_type": "execute_result"
    }
   ],
   "source": [
    "model1.fit(X_train, Y_train,\n",
    "              batch_size=batch_size, validation_data=(X_test, Y_test),\n",
    "              epochs=epochs,\n",
    "                shuffle=True)"
   ]
  },
  {
   "cell_type": "code",
   "execution_count": 62,
   "metadata": {
    "collapsed": true
   },
   "outputs": [],
   "source": [
    "Y_pred = model1.predict(X_test)"
   ]
  },
  {
   "cell_type": "code",
   "execution_count": 82,
   "metadata": {
    "collapsed": true
   },
   "outputs": [],
   "source": [
    "for i in range(len(Y_pred)):\n",
    "    Y_pred[i, :] = np.round(Y_pred[i, :])"
   ]
  },
  {
   "cell_type": "code",
   "execution_count": 87,
   "metadata": {},
   "outputs": [
    {
     "name": "stdout",
     "output_type": "stream",
     "text": [
      "AC:0.69 PR:1.00 RE:0.08 F1:0.15\n"
     ]
    }
   ],
   "source": [
    "#Precision: how many 1 are true 1?\n",
    "#Recall: how many 0 are true 0? \n",
    "#F1Score: balance between those two\n",
    "\n",
    "y_comp = confusion_matrix(Y_test[:, 1], Y_pred[:, 1])\n",
    "precision = y_comp[1, 1] / (y_comp[0, 1] + y_comp[1, 1])\n",
    "recall = y_comp[1, 1] / (y_comp[1, 0] + y_comp[1, 1])\n",
    "accuracy = accuracy_score(Y_test[:, 1], Y_pred[:, 1])\n",
    "f1score = 2 * precision * recall / (precision + recall)\n",
    "print(\"AC:%.2f PR:%.2f RE:%.2f F1:%.2f\" % (accuracy, precision, recall, f1score))"
   ]
  },
  {
   "cell_type": "code",
   "execution_count": 89,
   "metadata": {
    "collapsed": true
   },
   "outputs": [],
   "source": [
    "filename = (\"model_%i_%i_%i_%i.h5\" % (accuracy*100, precision*100, recall*100, f1score*100))\n",
    "model1.save(filename)"
   ]
  },
  {
   "cell_type": "code",
   "execution_count": null,
   "metadata": {
    "collapsed": true
   },
   "outputs": [],
   "source": [
    "test = pd.read_json('test.json')"
   ]
  },
  {
   "cell_type": "code",
   "execution_count": null,
   "metadata": {
    "collapsed": true
   },
   "outputs": [],
   "source": [
    "submission = pd.DataFrame()\n",
    "submission['id']=test['id']\n",
    "submission['is_iceberg']=preds\n",
    "submission.to_csv('sub.csv', index=False)"
   ]
  }
 ],
 "metadata": {
  "anaconda-cloud": {},
  "kernelspec": {
   "display_name": "Python 3",
   "language": "python",
   "name": "python3"
  },
  "language_info": {
   "codemirror_mode": {
    "name": "ipython",
    "version": 3
   },
   "file_extension": ".py",
   "mimetype": "text/x-python",
   "name": "python",
   "nbconvert_exporter": "python",
   "pygments_lexer": "ipython3",
   "version": "3.6.3"
  }
 },
 "nbformat": 4,
 "nbformat_minor": 2
}
